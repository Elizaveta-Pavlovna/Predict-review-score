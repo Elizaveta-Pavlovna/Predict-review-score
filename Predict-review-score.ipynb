{
 "cells": [
  {
   "cell_type": "code",
   "execution_count": 87,
   "id": "6ca25a65",
   "metadata": {},
   "outputs": [],
   "source": [
    "import numpy as np\n",
    "import pandas as pd\n",
    "import seaborn as sns\n",
    "import re\n",
    "%matplotlib inline\n",
    "import matplotlib.pyplot as plt\n",
    "\n",
    "from sklearn.utils import shuffle\n",
    "import nltk\n",
    "from nltk.corpus import stopwords\n",
    "\n",
    "from pymorphy2 import MorphAnalyzer\n",
    "from sklearn.feature_extraction.text import TfidfVectorizer\n",
    "from sklearn.pipeline import Pipeline\n",
    "\n",
    "from wordcloud import WordCloud\n",
    "import matplotlib.pyplot as plt\n",
    "\n",
    "from sklearn.model_selection import train_test_split\n",
    "from sklearn.naive_bayes import GaussianNB\n",
    "from sklearn.linear_model import LogisticRegression\n",
    "from sklearn.naive_bayes import ComplementNB\n",
    "from sklearn.tree import DecisionTreeClassifier\n",
    "from sklearn.ensemble import RandomForestClassifier\n",
    "from sklearn.ensemble import GradientBoostingClassifier\n",
    "from sklearn.ensemble import AdaBoostClassifier\n",
    "from sklearn.metrics import precision_score, recall_score, f1_score,accuracy_score\n",
    "\n",
    "from sklearn.model_selection import GridSearchCV"
   ]
  },
  {
   "cell_type": "markdown",
   "id": "0ef1d0c4",
   "metadata": {},
   "source": [
    "# Данные"
   ]
  },
  {
   "cell_type": "markdown",
   "id": "f921b759",
   "metadata": {},
   "source": [
    "## Чтение"
   ]
  },
  {
   "cell_type": "code",
   "execution_count": 2,
   "id": "cc07972b",
   "metadata": {},
   "outputs": [],
   "source": [
    "comments_msk = pd.read_csv('data/data_msk.csv', sep=',', decimal=\",\")\n",
    "comments_msk = comments_msk.drop(columns = ['commentsLink', ' index'], axis=1)\n",
    "\n",
    "comments_spb = pd.read_csv('data/data_spb.csv', sep=',', decimal=\",\")\n",
    "comments_spb = comments_spb.drop(columns = ['commentsLink', ' index'], axis=1)\n",
    "\n",
    "comments_ekt = pd.read_csv('data/data_ekt.csv', sep=',', decimal=\",\")\n",
    "comments_ekt = comments_ekt.drop(columns = ['commentsLink', ' index'], axis=1)\n",
    "\n",
    "comments_ksdr = pd.read_csv('data/data_ksdr.csv', sep=',', decimal=\",\")\n",
    "comments_ksdr = comments_ksdr.drop(columns = ['commentsLink', ' index'], axis=1)\n",
    "\n",
    "comments_kzn = pd.read_csv('data/data_kzn.csv', sep=',', decimal=\",\")\n",
    "comments_kzn = comments_kzn.drop(columns = ['commentsLink', ' index'], axis=1)\n",
    "\n",
    "comments_nnov = pd.read_csv('data/data_nnov.csv', sep=',', decimal=\",\")\n",
    "comments_nnov = comments_nnov.drop(columns = ['commentsLink', ' index'], axis=1)\n",
    "\n",
    "comments_rnd = pd.read_csv('data/data_rnd.csv', sep=',', decimal=\",\")\n",
    "comments_rnd = comments_rnd.drop(columns = ['commentsLink', ' index'], axis=1)"
   ]
  },
  {
   "cell_type": "code",
   "execution_count": 3,
   "id": "cfed7349",
   "metadata": {},
   "outputs": [
    {
     "data": {
      "text/html": [
       "<div>\n",
       "<style scoped>\n",
       "    .dataframe tbody tr th:only-of-type {\n",
       "        vertical-align: middle;\n",
       "    }\n",
       "\n",
       "    .dataframe tbody tr th {\n",
       "        vertical-align: top;\n",
       "    }\n",
       "\n",
       "    .dataframe thead th {\n",
       "        text-align: right;\n",
       "    }\n",
       "</style>\n",
       "<table border=\"1\" class=\"dataframe\">\n",
       "  <thead>\n",
       "    <tr style=\"text-align: right;\">\n",
       "      <th></th>\n",
       "      <th>comment</th>\n",
       "      <th>mark</th>\n",
       "    </tr>\n",
       "  </thead>\n",
       "  <tbody>\n",
       "    <tr>\n",
       "      <th>0</th>\n",
       "      <td>Преподаватель находит индивидуальный подход п...</td>\n",
       "      <td>Оценка: 5+.</td>\n",
       "    </tr>\n",
       "    <tr>\n",
       "      <th>1</th>\n",
       "      <td>Плюсы: Анна Валерьевна обязательна компетентн...</td>\n",
       "      <td>Оценка: 5.</td>\n",
       "    </tr>\n",
       "    <tr>\n",
       "      <th>2</th>\n",
       "      <td>СПАСИБО Анна Валерьевна! Сдали хорошо ЕГЭ. С ...</td>\n",
       "      <td>Оценка: 5.</td>\n",
       "    </tr>\n",
       "    <tr>\n",
       "      <th>3</th>\n",
       "      <td>50 % успеха - наличие контакта с преподавател...</td>\n",
       "      <td>Оценка: 5+.</td>\n",
       "    </tr>\n",
       "    <tr>\n",
       "      <th>4</th>\n",
       "      <td>Анна Валерьевна является не только уникальным...</td>\n",
       "      <td>Оценка: 5+.</td>\n",
       "    </tr>\n",
       "    <tr>\n",
       "      <th>...</th>\n",
       "      <td>...</td>\n",
       "      <td>...</td>\n",
       "    </tr>\n",
       "    <tr>\n",
       "      <th>7223</th>\n",
       "      <td>С Марией Николаевной мы занимаемся не так час...</td>\n",
       "      <td>Оценка: 5.</td>\n",
       "    </tr>\n",
       "    <tr>\n",
       "      <th>7224</th>\n",
       "      <td>Хорошо. Она хорошо преподает. Понятно  доступ...</td>\n",
       "      <td>Оценка: 5.</td>\n",
       "    </tr>\n",
       "    <tr>\n",
       "      <th>7225</th>\n",
       "      <td>В принципе  все положительно. Замечательный п...</td>\n",
       "      <td>Оценка: 5.</td>\n",
       "    </tr>\n",
       "    <tr>\n",
       "      <th>7226</th>\n",
       "      <td>Мы занимаемся до сих пор. Впечатления положит...</td>\n",
       "      <td>Оценка: 5.</td>\n",
       "    </tr>\n",
       "    <tr>\n",
       "      <th>7227</th>\n",
       "      <td>Работа репетитора понравилась  замечаний нет....</td>\n",
       "      <td>Оценка: 5.</td>\n",
       "    </tr>\n",
       "  </tbody>\n",
       "</table>\n",
       "<p>132689 rows × 2 columns</p>\n",
       "</div>"
      ],
      "text/plain": [
       "                                                comment          mark\n",
       "0      Преподаватель находит индивидуальный подход п...   Оценка: 5+.\n",
       "1      Плюсы: Анна Валерьевна обязательна компетентн...    Оценка: 5.\n",
       "2      СПАСИБО Анна Валерьевна! Сдали хорошо ЕГЭ. С ...    Оценка: 5.\n",
       "3      50 % успеха - наличие контакта с преподавател...   Оценка: 5+.\n",
       "4      Анна Валерьевна является не только уникальным...   Оценка: 5+.\n",
       "...                                                 ...           ...\n",
       "7223   С Марией Николаевной мы занимаемся не так час...    Оценка: 5.\n",
       "7224   Хорошо. Она хорошо преподает. Понятно  доступ...    Оценка: 5.\n",
       "7225   В принципе  все положительно. Замечательный п...    Оценка: 5.\n",
       "7226   Мы занимаемся до сих пор. Впечатления положит...    Оценка: 5.\n",
       "7227   Работа репетитора понравилась  замечаний нет....    Оценка: 5.\n",
       "\n",
       "[132689 rows x 2 columns]"
      ]
     },
     "execution_count": 3,
     "metadata": {},
     "output_type": "execute_result"
    }
   ],
   "source": [
    "comments = pd.concat([\n",
    "    comments_msk,\n",
    "    comments_spb,\n",
    "    comments_ekt,\n",
    "    comments_ksdr,\n",
    "    comments_kzn,\n",
    "    comments_nnov,\n",
    "    comments_rnd\n",
    "    ], axis=0)\n",
    "comments"
   ]
  },
  {
   "cell_type": "markdown",
   "id": "e8c62e37",
   "metadata": {},
   "source": [
    "## Разбиение на классы"
   ]
  },
  {
   "cell_type": "code",
   "execution_count": 4,
   "id": "13c03494",
   "metadata": {},
   "outputs": [],
   "source": [
    "comments = comments.reset_index(drop=True)"
   ]
  },
  {
   "cell_type": "code",
   "execution_count": 5,
   "id": "77a2369a",
   "metadata": {},
   "outputs": [],
   "source": [
    "comments.rename(columns = {' comment' : 'comment', ' mark' : 'mark'}, inplace = True )"
   ]
  },
  {
   "cell_type": "code",
   "execution_count": 6,
   "id": "cdd2f404",
   "metadata": {},
   "outputs": [
    {
     "data": {
      "text/plain": [
       "array([' Оценка: 1.', ' Оценка: 2.', ' Оценка: 3+.', ' Оценка: 3.',\n",
       "       ' Оценка: 3−.', ' Оценка: 4+.', ' Оценка: 4.', ' Оценка: 4−.',\n",
       "       ' Оценка: 5+.', ' Оценка: 5.', ' Оценка: 5−.'], dtype=object)"
      ]
     },
     "execution_count": 6,
     "metadata": {},
     "output_type": "execute_result"
    }
   ],
   "source": [
    "np.unique(comments['mark'])"
   ]
  },
  {
   "cell_type": "code",
   "execution_count": 7,
   "id": "78f91ebe",
   "metadata": {},
   "outputs": [
    {
     "data": {
      "text/html": [
       "<div>\n",
       "<style scoped>\n",
       "    .dataframe tbody tr th:only-of-type {\n",
       "        vertical-align: middle;\n",
       "    }\n",
       "\n",
       "    .dataframe tbody tr th {\n",
       "        vertical-align: top;\n",
       "    }\n",
       "\n",
       "    .dataframe thead th {\n",
       "        text-align: right;\n",
       "    }\n",
       "</style>\n",
       "<table border=\"1\" class=\"dataframe\">\n",
       "  <thead>\n",
       "    <tr style=\"text-align: right;\">\n",
       "      <th></th>\n",
       "      <th>comment</th>\n",
       "    </tr>\n",
       "    <tr>\n",
       "      <th>mark</th>\n",
       "      <th></th>\n",
       "    </tr>\n",
       "  </thead>\n",
       "  <tbody>\n",
       "    <tr>\n",
       "      <th>Оценка: 1.</th>\n",
       "      <td>180</td>\n",
       "    </tr>\n",
       "    <tr>\n",
       "      <th>Оценка: 2.</th>\n",
       "      <td>601</td>\n",
       "    </tr>\n",
       "    <tr>\n",
       "      <th>Оценка: 3+.</th>\n",
       "      <td>152</td>\n",
       "    </tr>\n",
       "    <tr>\n",
       "      <th>Оценка: 3.</th>\n",
       "      <td>969</td>\n",
       "    </tr>\n",
       "    <tr>\n",
       "      <th>Оценка: 3−.</th>\n",
       "      <td>182</td>\n",
       "    </tr>\n",
       "    <tr>\n",
       "      <th>Оценка: 4+.</th>\n",
       "      <td>1446</td>\n",
       "    </tr>\n",
       "    <tr>\n",
       "      <th>Оценка: 4.</th>\n",
       "      <td>3195</td>\n",
       "    </tr>\n",
       "    <tr>\n",
       "      <th>Оценка: 4−.</th>\n",
       "      <td>441</td>\n",
       "    </tr>\n",
       "    <tr>\n",
       "      <th>Оценка: 5+.</th>\n",
       "      <td>56243</td>\n",
       "    </tr>\n",
       "    <tr>\n",
       "      <th>Оценка: 5.</th>\n",
       "      <td>67023</td>\n",
       "    </tr>\n",
       "    <tr>\n",
       "      <th>Оценка: 5−.</th>\n",
       "      <td>1343</td>\n",
       "    </tr>\n",
       "  </tbody>\n",
       "</table>\n",
       "</div>"
      ],
      "text/plain": [
       "              comment\n",
       "mark                 \n",
       " Оценка: 1.       180\n",
       " Оценка: 2.       601\n",
       " Оценка: 3+.      152\n",
       " Оценка: 3.       969\n",
       " Оценка: 3−.      182\n",
       " Оценка: 4+.     1446\n",
       " Оценка: 4.      3195\n",
       " Оценка: 4−.      441\n",
       " Оценка: 5+.    56243\n",
       " Оценка: 5.     67023\n",
       " Оценка: 5−.     1343"
      ]
     },
     "execution_count": 7,
     "metadata": {},
     "output_type": "execute_result"
    }
   ],
   "source": [
    "comments.groupby('mark').nunique()"
   ]
  },
  {
   "cell_type": "markdown",
   "id": "4fb9eead",
   "metadata": {},
   "source": [
    "Так как классов слишком много и они очень несбалансированные, объединим их в группы классов - 2,3,4,5 следующим образом:"
   ]
  },
  {
   "cell_type": "code",
   "execution_count": 8,
   "id": "1da7d8bd",
   "metadata": {},
   "outputs": [],
   "source": [
    "comments.loc[(comments['mark'] == ' Оценка: 5.'), 'mark'] = 5\n",
    "comments.loc[(comments['mark'] == ' Оценка: 5+.'), 'mark'] = 5\n",
    "\n",
    "comments.loc[(comments['mark'] == ' Оценка: 5−.'), 'mark'] = 4\n",
    "comments.loc[(comments['mark'] == ' Оценка: 4.'), 'mark'] = 4\n",
    "comments.loc[(comments['mark'] == ' Оценка: 4+.'), 'mark'] = 4\n",
    "\n",
    "comments.loc[(comments['mark'] == ' Оценка: 4−.'), 'mark'] = 3\n",
    "comments.loc[(comments['mark'] == ' Оценка: 3.'), 'mark'] = 3\n",
    "comments.loc[(comments['mark'] == ' Оценка: 3+.'), 'mark'] = 3\n",
    "\n",
    "comments.loc[(comments['mark'] == ' Оценка: 3−.'), 'mark'] = 2\n",
    "comments.loc[(comments['mark'] == ' Оценка: 2.'), 'mark'] = 2\n",
    "comments.loc[(comments['mark'] == ' Оценка: 1.'), 'mark'] = 2"
   ]
  },
  {
   "cell_type": "markdown",
   "id": "9004b8f7",
   "metadata": {},
   "source": [
    "Примеры отзывов с оценкой 5 и 2:"
   ]
  },
  {
   "cell_type": "code",
   "execution_count": 9,
   "id": "6b51baba",
   "metadata": {},
   "outputs": [
    {
     "name": "stdout",
     "output_type": "stream",
     "text": [
      " Преподаватель находит индивидуальный подход процесс обучения проходил отлично поставленной задачи достигли. \n",
      "\n",
      " Плюсы: Анна Валерьевна обязательна компетентна внимательна и хорошо нашла общий язык с моим сыном. Описание: Результатом занятий моего сына стало поступление в один из физико-математических лицеев куда мы планировали. Не смотря на то что мы поздно взялись готовиться и сын занимался всего месяц. И честно говоря я допускала что они не успеют освоить необходимый материал. Я очень благодарна Анне Валерьевне что она нам помогла. \n",
      "\n",
      " СПАСИБО Анна Валерьевна! Сдали хорошо ЕГЭ. С детьми на одной волне(слова сына). С родителями всегда на связи. Спасибо за занятия знания и поддержку. Рекомендуем!!! \n",
      "\n",
      " 50 % успеха - наличие контакта с преподавателем его желание работать с самыми разными уровнями подготовки и проблемами ученика не просто готовить к экзамену хороших ребят которые мотивированы и им необходимо помочь \"поднатаскать\" к сдаче а именно разбираться с проблемой не только на уровне предмета но и психологическим барьером ученика особенно если он ярко выраженный гуманитарий и не самый простой психотип; обладать не только хорошими знаниями но и быть способным передать эти знания найти индивидуальный подход к ученику искренне хотеть помочь ему. Все это - про АННУ! АННА-потрясающий преподаватель с уже ставшими редкостью душевными человеческими качествами она проживает вместе с учеником каждую его проблему радость наблюдает за ним не сдается ищет подход в самых казалось бы безнадежных ситуациях и в итоге приводит к результату! Сын получил 05 балла из 10-ти при тестировании в школу на грани был срыв сдачи ГИА математика для него - предмет \"с другой планеты\" все пробные тесты были на 2 балла. Огромный психологический барьер сложность с концентрацией особенно по предмету который совсем не давался. Благодаря работе и общению с Анной - пройдены на 4-ку тесты в новую школу сдача ГИА помощь в принципе в выборе вариантов новой школы и просто потрясающее общение! АННА - потрясающий очень интересный человек и не менее потрясающий преподаватель! АННА - СПАСИБО!!!!!!!!!!!!!! Вы в прямом смысле прожили с нами год как самый близкий человек понимающий и желающий помочь! Спасибо за поддержку и результат!!!!!!!!!!!!! Комментарий сына: \"Таких как Анна наверно в принципе нет! \" :) СПАСИБО \n",
      "\n",
      " Анна Валерьевна является не только уникальным педагогом  каких поискать нужно но и замечательной девушкой  с которой всегда интересно и приятно вести беседу. Я ей безгранично благодарна за ту работу  которую мы провели вместе. За два месяца до экзамена я решила серьезно начать подготовкой к математике.Долгие поиски не давали результатов но однажды я натолкнулась на анкету Анны Валерьевны и решила попробовать заниматься с ней и ничуть не пожалела. С самого первого занятия она зародила во мне интерес к этому предмету. Я шла на каждое новое занятие с великим удовольствие ! И вовсе невероятно  но за два месяца мы увеличили мой результат на 40 % . Я говорю мы  потому что этот человек искренни радовался достигнутым победам и делал все для их достижения. Я безумно рада  что на моем жизненном пути встретился такой человек ! \n",
      "\n"
     ]
    }
   ],
   "source": [
    "for i in comments.loc[(comments['mark'] == 5), 'comment'][:5]:\n",
    "    print(i, '\\n')"
   ]
  },
  {
   "cell_type": "code",
   "execution_count": 10,
   "id": "d779af02",
   "metadata": {},
   "outputs": [
    {
     "name": "stdout",
     "output_type": "stream",
     "text": [
      " Постоянно отвлекаеться на смс в телефоне  не корректно объясняет ту или инную тему на разбор заданий недостаточно уделяет время. \n",
      "\n",
      " Репетитор не понравился т. к. все 90 минут он смотрел в телефон или писал смс. Никакой заинтересованности в работе не проявил. Точно не наш вариант. \n",
      "\n",
      " Плюсы: Дистанционное обучение на сайте Невысокая цена обучения Минусы: Слишком много лишней информации в уроках Поменял основной язык программирования Решение большого количества задач в ручном режиме Описание: Я купил курс по информатике летом 2020 года (за 2 года до ЕГЭ). Прозанимавшись год на языке С++ в сентябре 2021 года Максим Юрьевич поменял его на Питон. Сейчас я понимаю что питон больше подходит для ЕГЭ. Но в результате год обучения потерян представляете! Слишком много времени было посвящено решению задач в ручном режиме как показала практика на ЕГЭ большинство задач нужно решать в программном режиме что гораздо быстрее и повышает точность результатов. В результате такого подхода мне не хватило времени на ЕГЭ для решения всех задач которые я мог бы решить. Не рекомендую Казакова Максима Юрьевича в качестве репетитора по информатике. \n",
      "\n",
      " Мой ребёнок категорически отказался заниматься математикой и физикой с Геннадием Валентиновичем. Он правда очень своеобразный человек да и я тоже была от него не в восторге! Я не увидела в нём заинтересованности в работе результатах своего ученика. Я наблюдала у него только денежный интерес. \n",
      "\n",
      " У меня нет особых впечатлений о работе репетитора потому что результатов так и не последовало после занятий с ним. Я не понимаю чем он вообще занимался на уроке. Роберт просил помочь ему с решением задач решение которых Геннадий Валентинович сам не знал тратя на них много времени чтобы самому понять и разобраться а потом просил еще и дополнительной оплаты за сверхурочную работу. Мальчик был конечно не в восторге от уроков. Я считаю что это не стоит таких денег. За 15 месяца обучения проблемы с математикой так и остались. Я очень разочарован сотрудничеством с данным специалистом. \n",
      "\n"
     ]
    }
   ],
   "source": [
    "for i in comments.loc[(comments['mark'] == 2), 'comment'][:5]:\n",
    "    print(i, '\\n')"
   ]
  },
  {
   "cell_type": "markdown",
   "id": "2f42e9bf",
   "metadata": {},
   "source": [
    "## Балансировка"
   ]
  },
  {
   "cell_type": "markdown",
   "id": "d600ad65",
   "metadata": {},
   "source": [
    "Случайно выберем и удалим большую часть данных с оценкой 5 для сбалансированности:"
   ]
  },
  {
   "cell_type": "code",
   "execution_count": 11,
   "id": "2d34e164",
   "metadata": {},
   "outputs": [],
   "source": [
    "comments = comments.sort_values(by = ['mark'])[:-110000]"
   ]
  },
  {
   "cell_type": "code",
   "execution_count": 12,
   "id": "6b02c518",
   "metadata": {},
   "outputs": [
    {
     "data": {
      "text/html": [
       "<div>\n",
       "<style scoped>\n",
       "    .dataframe tbody tr th:only-of-type {\n",
       "        vertical-align: middle;\n",
       "    }\n",
       "\n",
       "    .dataframe tbody tr th {\n",
       "        vertical-align: top;\n",
       "    }\n",
       "\n",
       "    .dataframe thead th {\n",
       "        text-align: right;\n",
       "    }\n",
       "</style>\n",
       "<table border=\"1\" class=\"dataframe\">\n",
       "  <thead>\n",
       "    <tr style=\"text-align: right;\">\n",
       "      <th></th>\n",
       "      <th>comment</th>\n",
       "    </tr>\n",
       "    <tr>\n",
       "      <th>mark</th>\n",
       "      <th></th>\n",
       "    </tr>\n",
       "  </thead>\n",
       "  <tbody>\n",
       "    <tr>\n",
       "      <th>2</th>\n",
       "      <td>963</td>\n",
       "    </tr>\n",
       "    <tr>\n",
       "      <th>3</th>\n",
       "      <td>1562</td>\n",
       "    </tr>\n",
       "    <tr>\n",
       "      <th>4</th>\n",
       "      <td>5976</td>\n",
       "    </tr>\n",
       "    <tr>\n",
       "      <th>5</th>\n",
       "      <td>14080</td>\n",
       "    </tr>\n",
       "  </tbody>\n",
       "</table>\n",
       "</div>"
      ],
      "text/plain": [
       "      comment\n",
       "mark         \n",
       "2         963\n",
       "3        1562\n",
       "4        5976\n",
       "5       14080"
      ]
     },
     "execution_count": 12,
     "metadata": {},
     "output_type": "execute_result"
    }
   ],
   "source": [
    "comments.groupby('mark').nunique()"
   ]
  },
  {
   "cell_type": "code",
   "execution_count": 13,
   "id": "2ad28f87",
   "metadata": {},
   "outputs": [
    {
     "data": {
      "text/html": [
       "<div>\n",
       "<style scoped>\n",
       "    .dataframe tbody tr th:only-of-type {\n",
       "        vertical-align: middle;\n",
       "    }\n",
       "\n",
       "    .dataframe tbody tr th {\n",
       "        vertical-align: top;\n",
       "    }\n",
       "\n",
       "    .dataframe thead th {\n",
       "        text-align: right;\n",
       "    }\n",
       "</style>\n",
       "<table border=\"1\" class=\"dataframe\">\n",
       "  <thead>\n",
       "    <tr style=\"text-align: right;\">\n",
       "      <th></th>\n",
       "      <th>comment</th>\n",
       "      <th>mark</th>\n",
       "    </tr>\n",
       "  </thead>\n",
       "  <tbody>\n",
       "    <tr>\n",
       "      <th>94659</th>\n",
       "      <td>Впечатление о работе репетитора хорошее  меня...</td>\n",
       "      <td>5</td>\n",
       "    </tr>\n",
       "    <tr>\n",
       "      <th>73050</th>\n",
       "      <td>Татьяна Николаевна занимается с дочерью физик...</td>\n",
       "      <td>5</td>\n",
       "    </tr>\n",
       "    <tr>\n",
       "      <th>91597</th>\n",
       "      <td>Большое спасибо за подготовку к экзаменам по ...</td>\n",
       "      <td>5</td>\n",
       "    </tr>\n",
       "    <tr>\n",
       "      <th>130448</th>\n",
       "      <td>Маргарита Александровна нам понравилась. У не...</td>\n",
       "      <td>4</td>\n",
       "    </tr>\n",
       "    <tr>\n",
       "      <th>95470</th>\n",
       "      <td>Игорь Валерьевич... не пошло  не получилось. ...</td>\n",
       "      <td>4</td>\n",
       "    </tr>\n",
       "    <tr>\n",
       "      <th>...</th>\n",
       "      <td>...</td>\n",
       "      <td>...</td>\n",
       "    </tr>\n",
       "    <tr>\n",
       "      <th>88968</th>\n",
       "      <td>Плюсы: Отзывчивая  доступно объясняет  на люб...</td>\n",
       "      <td>5</td>\n",
       "    </tr>\n",
       "    <tr>\n",
       "      <th>93708</th>\n",
       "      <td>Сотрудничество мы завершили преждевременно. А...</td>\n",
       "      <td>5</td>\n",
       "    </tr>\n",
       "    <tr>\n",
       "      <th>92548</th>\n",
       "      <td>Наши занятия продолжаются. Я доволен работой ...</td>\n",
       "      <td>5</td>\n",
       "    </tr>\n",
       "    <tr>\n",
       "      <th>94167</th>\n",
       "      <td>Плюсы: Прекрасный репетитор  за кратчайшие ср...</td>\n",
       "      <td>5</td>\n",
       "    </tr>\n",
       "    <tr>\n",
       "      <th>96196</th>\n",
       "      <td>Залия Рафиковна - необыкновенный преподавател...</td>\n",
       "      <td>5</td>\n",
       "    </tr>\n",
       "  </tbody>\n",
       "</table>\n",
       "<p>22689 rows × 2 columns</p>\n",
       "</div>"
      ],
      "text/plain": [
       "                                                  comment mark\n",
       "94659    Впечатление о работе репетитора хорошее  меня...    5\n",
       "73050    Татьяна Николаевна занимается с дочерью физик...    5\n",
       "91597    Большое спасибо за подготовку к экзаменам по ...    5\n",
       "130448   Маргарита Александровна нам понравилась. У не...    4\n",
       "95470    Игорь Валерьевич... не пошло  не получилось. ...    4\n",
       "...                                                   ...  ...\n",
       "88968    Плюсы: Отзывчивая  доступно объясняет  на люб...    5\n",
       "93708    Сотрудничество мы завершили преждевременно. А...    5\n",
       "92548    Наши занятия продолжаются. Я доволен работой ...    5\n",
       "94167    Плюсы: Прекрасный репетитор  за кратчайшие ср...    5\n",
       "96196    Залия Рафиковна - необыкновенный преподавател...    5\n",
       "\n",
       "[22689 rows x 2 columns]"
      ]
     },
     "execution_count": 13,
     "metadata": {},
     "output_type": "execute_result"
    }
   ],
   "source": [
    "comments = shuffle(comments)\n",
    "comments"
   ]
  },
  {
   "cell_type": "code",
   "execution_count": 14,
   "id": "eac2a5b6",
   "metadata": {},
   "outputs": [
    {
     "data": {
      "text/plain": [
       "<AxesSubplot: xlabel='mark', ylabel='count'>"
      ]
     },
     "execution_count": 14,
     "metadata": {},
     "output_type": "execute_result"
    },
    {
     "data": {
      "image/png": "[encoded data removed]",
      "text/plain": [
       "<Figure size 640x480 with 1 Axes>"
      ]
     },
     "metadata": {},
     "output_type": "display_data"
    }
   ],
   "source": [
    "sns.countplot(x = comments['mark'],data = comments)"
   ]
  },
  {
   "cell_type": "markdown",
   "id": "b28fd4cd",
   "metadata": {},
   "source": [
    "Видим, что есть очень большие по длине отзывы, учтем это при анализе:"
   ]
  },
  {
   "cell_type": "code",
   "execution_count": 15,
   "id": "e45cfbb4",
   "metadata": {},
   "outputs": [
    {
     "data": {
      "text/plain": [
       "<AxesSubplot: ylabel='Count'>"
      ]
     },
     "execution_count": 15,
     "metadata": {},
     "output_type": "execute_result"
    },
    {
     "data": {
      "image/png": "[encoded data removed]",
      "text/plain": [
       "<Figure size 640x480 with 1 Axes>"
      ]
     },
     "metadata": {},
     "output_type": "display_data"
    }
   ],
   "source": [
    "sns.histplot([len(comment) for comment in comments['comment']])"
   ]
  },
  {
   "cell_type": "code",
   "execution_count": 16,
   "id": "ea35d260",
   "metadata": {},
   "outputs": [],
   "source": [
    "comments['mark'] = comments['mark'].astype(str).astype(int)\n",
    "comments['comment'] = comments['comment'].astype(str)"
   ]
  },
  {
   "cell_type": "markdown",
   "id": "0e2d54b6",
   "metadata": {},
   "source": [
    "# Prepocessing"
   ]
  },
  {
   "cell_type": "code",
   "execution_count": 17,
   "id": "8d44b0c5",
   "metadata": {},
   "outputs": [],
   "source": [
    "# !pip3 install WordCloud"
   ]
  },
  {
   "cell_type": "markdown",
   "id": "1ece3e5c",
   "metadata": {},
   "source": [
    "Загрузим русский список стоп-слов и удалим из него слова \"не\" и \"нет\", так как они часто встречаются в отрицательных отзывах и редко в положительных, значит могут быть полезными при классификации:"
   ]
  },
  {
   "cell_type": "code",
   "execution_count": 18,
   "id": "4065e9a2",
   "metadata": {},
   "outputs": [
    {
     "name": "stderr",
     "output_type": "stream",
     "text": [
      "[nltk_data] Downloading package stopwords to\n",
      "[nltk_data]     /Users/natalaantonenko/nltk_data...\n",
      "[nltk_data]   Package stopwords is already up-to-date!\n"
     ]
    }
   ],
   "source": [
    "nltk.download('stopwords')\n",
    "stopwords_ru = stopwords.words(\"russian\")\n",
    "stopwords_ru.remove('не')\n",
    "stopwords_ru.remove('нет')"
   ]
  },
  {
   "cell_type": "markdown",
   "id": "4d1b0dca",
   "metadata": {},
   "source": [
    "Создадим функцию preprocessing, с помощью которой будем предобрабатывать наши отзывы, а именно: \n",
    "1. разбивать на токены\n",
    "2. приводить к нормальной форме\n",
    "3. удалять стоп-слов"
   ]
  },
  {
   "cell_type": "code",
   "execution_count": 19,
   "id": "f80e2fab",
   "metadata": {},
   "outputs": [],
   "source": [
    "patterns = \"[A-Za-z!#$%&'()*+,./:;<=>?@[\\]^_`{|}~—\\\"\\-]+\"\n",
    "morph = MorphAnalyzer()\n",
    "stop_repetit_words = ['репетитор', 'занятие', 'преподаватель', 'педагог', 'ребёнок']\n",
    "\n",
    "def preprocessing(doc):\n",
    "    doc = re.sub(patterns, ' ', doc)\n",
    "    string = ''\n",
    "    for token in doc.split():\n",
    "        if token:\n",
    "            token = token.strip()\n",
    "            token = morph.normal_forms(token)[0]\n",
    "            if token not in stopwords_ru and token not in stop_repetit_words:\n",
    "                string += token + ' '\n",
    "    if len(string.split()) > 7:\n",
    "        return string\n",
    "    return None"
   ]
  },
  {
   "cell_type": "code",
   "execution_count": 20,
   "id": "444306ae",
   "metadata": {},
   "outputs": [],
   "source": [
    "data = comments.iloc[:,0].apply(preprocessing)"
   ]
  },
  {
   "cell_type": "code",
   "execution_count": 22,
   "id": "c5943eb2",
   "metadata": {},
   "outputs": [
    {
     "data": {
      "text/plain": [
       "20884"
      ]
     },
     "execution_count": 22,
     "metadata": {},
     "output_type": "execute_result"
    }
   ],
   "source": [
    "comments['comm_tokens'] = data\n",
    "comments = comments.dropna()\n",
    "len(comments)"
   ]
  },
  {
   "cell_type": "code",
   "execution_count": 23,
   "id": "1d81c8a4",
   "metadata": {},
   "outputs": [
    {
     "name": "stderr",
     "output_type": "stream",
     "text": [
      "/var/folders/0b/7m67yr996xq16ssxkwly78q80000gr/T/ipykernel_2460/269570169.py:1: SettingWithCopyWarning: \n",
      "A value is trying to be set on a copy of a slice from a DataFrame.\n",
      "Try using .loc[row_indexer,col_indexer] = value instead\n",
      "\n",
      "See the caveats in the documentation: https://pandas.pydata.org/pandas-docs/stable/user_guide/indexing.html#returning-a-view-versus-a-copy\n",
      "  comments['comm_tokens'] = comments['comm_tokens'].astype(str)\n"
     ]
    }
   ],
   "source": [
    "comments['comm_tokens'] = comments['comm_tokens'].astype(str)"
   ]
  },
  {
   "cell_type": "code",
   "execution_count": 24,
   "id": "208d3f61",
   "metadata": {},
   "outputs": [
    {
     "data": {
      "text/html": [
       "<div>\n",
       "<style scoped>\n",
       "    .dataframe tbody tr th:only-of-type {\n",
       "        vertical-align: middle;\n",
       "    }\n",
       "\n",
       "    .dataframe tbody tr th {\n",
       "        vertical-align: top;\n",
       "    }\n",
       "\n",
       "    .dataframe thead th {\n",
       "        text-align: right;\n",
       "    }\n",
       "</style>\n",
       "<table border=\"1\" class=\"dataframe\">\n",
       "  <thead>\n",
       "    <tr style=\"text-align: right;\">\n",
       "      <th></th>\n",
       "      <th>comment</th>\n",
       "      <th>mark</th>\n",
       "      <th>comm_tokens</th>\n",
       "    </tr>\n",
       "  </thead>\n",
       "  <tbody>\n",
       "    <tr>\n",
       "      <th>94659</th>\n",
       "      <td>Впечатление о работе репетитора хорошее  меня...</td>\n",
       "      <td>5</td>\n",
       "      <td>впечатление работа хороший всё устраивать мари...</td>\n",
       "    </tr>\n",
       "    <tr>\n",
       "      <th>73050</th>\n",
       "      <td>Татьяна Николаевна занимается с дочерью физик...</td>\n",
       "      <td>5</td>\n",
       "      <td>татьяна николаевич заниматься дочь физика дово...</td>\n",
       "    </tr>\n",
       "    <tr>\n",
       "      <th>91597</th>\n",
       "      <td>Большое спасибо за подготовку к экзаменам по ...</td>\n",
       "      <td>5</td>\n",
       "      <td>большой спасибо подготовка экзамен обществозна...</td>\n",
       "    </tr>\n",
       "    <tr>\n",
       "      <th>130448</th>\n",
       "      <td>Маргарита Александровна нам понравилась. У не...</td>\n",
       "      <td>4</td>\n",
       "      <td>маргарита александрович понравиться опыт работ...</td>\n",
       "    </tr>\n",
       "    <tr>\n",
       "      <th>95470</th>\n",
       "      <td>Игорь Валерьевич... не пошло  не получилось. ...</td>\n",
       "      <td>4</td>\n",
       "      <td>игорь валериевич не пойти не получиться это де...</td>\n",
       "    </tr>\n",
       "    <tr>\n",
       "      <th>...</th>\n",
       "      <td>...</td>\n",
       "      <td>...</td>\n",
       "      <td>...</td>\n",
       "    </tr>\n",
       "    <tr>\n",
       "      <th>88968</th>\n",
       "      <td>Плюсы: Отзывчивая  доступно объясняет  на люб...</td>\n",
       "      <td>5</td>\n",
       "      <td>плюс отзывчивый доступно объяснять любой урове...</td>\n",
       "    </tr>\n",
       "    <tr>\n",
       "      <th>93708</th>\n",
       "      <td>Сотрудничество мы завершили преждевременно. А...</td>\n",
       "      <td>5</td>\n",
       "      <td>сотрудничество завершить преждевременно алекса...</td>\n",
       "    </tr>\n",
       "    <tr>\n",
       "      <th>92548</th>\n",
       "      <td>Наши занятия продолжаются. Я доволен работой ...</td>\n",
       "      <td>5</td>\n",
       "      <td>наш продолжаться довольный работа татьяна игор...</td>\n",
       "    </tr>\n",
       "    <tr>\n",
       "      <th>94167</th>\n",
       "      <td>Плюсы: Прекрасный репетитор  за кратчайшие ср...</td>\n",
       "      <td>5</td>\n",
       "      <td>плюс прекрасный краткий срок помочь освоить бо...</td>\n",
       "    </tr>\n",
       "    <tr>\n",
       "      <th>96196</th>\n",
       "      <td>Залия Рафиковна - необыкновенный преподавател...</td>\n",
       "      <td>5</td>\n",
       "      <td>залия рафикович необыкновенный замечательный п...</td>\n",
       "    </tr>\n",
       "  </tbody>\n",
       "</table>\n",
       "<p>20884 rows × 3 columns</p>\n",
       "</div>"
      ],
      "text/plain": [
       "                                                  comment  mark  \\\n",
       "94659    Впечатление о работе репетитора хорошее  меня...     5   \n",
       "73050    Татьяна Николаевна занимается с дочерью физик...     5   \n",
       "91597    Большое спасибо за подготовку к экзаменам по ...     5   \n",
       "130448   Маргарита Александровна нам понравилась. У не...     4   \n",
       "95470    Игорь Валерьевич... не пошло  не получилось. ...     4   \n",
       "...                                                   ...   ...   \n",
       "88968    Плюсы: Отзывчивая  доступно объясняет  на люб...     5   \n",
       "93708    Сотрудничество мы завершили преждевременно. А...     5   \n",
       "92548    Наши занятия продолжаются. Я доволен работой ...     5   \n",
       "94167    Плюсы: Прекрасный репетитор  за кратчайшие ср...     5   \n",
       "96196    Залия Рафиковна - необыкновенный преподавател...     5   \n",
       "\n",
       "                                              comm_tokens  \n",
       "94659   впечатление работа хороший всё устраивать мари...  \n",
       "73050   татьяна николаевич заниматься дочь физика дово...  \n",
       "91597   большой спасибо подготовка экзамен обществозна...  \n",
       "130448  маргарита александрович понравиться опыт работ...  \n",
       "95470   игорь валериевич не пойти не получиться это де...  \n",
       "...                                                   ...  \n",
       "88968   плюс отзывчивый доступно объяснять любой урове...  \n",
       "93708   сотрудничество завершить преждевременно алекса...  \n",
       "92548   наш продолжаться довольный работа татьяна игор...  \n",
       "94167   плюс прекрасный краткий срок помочь освоить бо...  \n",
       "96196   залия рафикович необыкновенный замечательный п...  \n",
       "\n",
       "[20884 rows x 3 columns]"
      ]
     },
     "execution_count": 24,
     "metadata": {},
     "output_type": "execute_result"
    }
   ],
   "source": [
    "comments"
   ]
  },
  {
   "cell_type": "markdown",
   "id": "7319d9df",
   "metadata": {},
   "source": [
    "# Обучение"
   ]
  },
  {
   "cell_type": "code",
   "execution_count": 25,
   "id": "93128042",
   "metadata": {},
   "outputs": [],
   "source": [
    "vectorizer = TfidfVectorizer()\n",
    "X = vectorizer.fit_transform(comments['comm_tokens'])\n",
    "y = comments['mark']\n",
    "X_train, X_test, y_train, y_test = train_test_split(X, y, test_size=0.30, random_state = 1234)"
   ]
  },
  {
   "cell_type": "markdown",
   "id": "c4cde135",
   "metadata": {},
   "source": [
    "Строим 6 классификаторов и для каждого выводим значения precision, recall, f1_score:"
   ]
  },
  {
   "cell_type": "code",
   "execution_count": 26,
   "id": "cee40afa",
   "metadata": {},
   "outputs": [
    {
     "data": {
      "text/html": [
       "<div>\n",
       "<style scoped>\n",
       "    .dataframe tbody tr th:only-of-type {\n",
       "        vertical-align: middle;\n",
       "    }\n",
       "\n",
       "    .dataframe tbody tr th {\n",
       "        vertical-align: top;\n",
       "    }\n",
       "\n",
       "    .dataframe thead th {\n",
       "        text-align: right;\n",
       "    }\n",
       "</style>\n",
       "<table border=\"1\" class=\"dataframe\">\n",
       "  <thead>\n",
       "    <tr style=\"text-align: right;\">\n",
       "      <th></th>\n",
       "      <th>LogisticRegression</th>\n",
       "      <th>RandomForestClassifier</th>\n",
       "      <th>ComplementNB</th>\n",
       "      <th>DecisionTreeClassifier</th>\n",
       "      <th>GradientBoostingClassifier</th>\n",
       "      <th>AdaBoostClassifier</th>\n",
       "    </tr>\n",
       "  </thead>\n",
       "  <tbody>\n",
       "    <tr>\n",
       "      <th>precision</th>\n",
       "      <td>0.807458</td>\n",
       "      <td>0.865081</td>\n",
       "      <td>0.845159</td>\n",
       "      <td>0.639376</td>\n",
       "      <td>0.799436</td>\n",
       "      <td>0.757067</td>\n",
       "    </tr>\n",
       "    <tr>\n",
       "      <th>recall</th>\n",
       "      <td>0.760294</td>\n",
       "      <td>0.715608</td>\n",
       "      <td>0.719438</td>\n",
       "      <td>0.635653</td>\n",
       "      <td>0.726141</td>\n",
       "      <td>0.698053</td>\n",
       "    </tr>\n",
       "    <tr>\n",
       "      <th>f1_weighted</th>\n",
       "      <td>0.777502</td>\n",
       "      <td>0.766449</td>\n",
       "      <td>0.763849</td>\n",
       "      <td>0.635638</td>\n",
       "      <td>0.753830</td>\n",
       "      <td>0.720645</td>\n",
       "    </tr>\n",
       "  </tbody>\n",
       "</table>\n",
       "</div>"
      ],
      "text/plain": [
       "             LogisticRegression  RandomForestClassifier  ComplementNB  \\\n",
       "precision              0.807458                0.865081      0.845159   \n",
       "recall                 0.760294                0.715608      0.719438   \n",
       "f1_weighted            0.777502                0.766449      0.763849   \n",
       "\n",
       "             DecisionTreeClassifier  GradientBoostingClassifier  \\\n",
       "precision                  0.639376                    0.799436   \n",
       "recall                     0.635653                    0.726141   \n",
       "f1_weighted                0.635638                    0.753830   \n",
       "\n",
       "             AdaBoostClassifier  \n",
       "precision              0.757067  \n",
       "recall                 0.698053  \n",
       "f1_weighted            0.720645  "
      ]
     },
     "execution_count": 26,
     "metadata": {},
     "output_type": "execute_result"
    }
   ],
   "source": [
    "def model_score(model, criterion):\n",
    "    model.fit(X_train, y_train)\n",
    "    y_pred = model.predict(X_test)\n",
    "    return criterion(y_pred, y_test, average='weighted')\n",
    "\n",
    "models_name = ['LogisticRegression', 'RandomForestClassifier', 'ComplementNB',\n",
    "               'DecisionTreeClassifier', 'GradientBoostingClassifier', \n",
    "               'AdaBoostClassifier']\n",
    "models = [LogisticRegression(solver='lbfgs', max_iter=1000), RandomForestClassifier(), ComplementNB(),\n",
    "          DecisionTreeClassifier(), GradientBoostingClassifier(), \n",
    "          AdaBoostClassifier()]\n",
    "model_result = {}\n",
    "\n",
    "quality = [precision_score, \n",
    "           recall_score, \n",
    "           f1_score]\n",
    "        \n",
    "for i in range(len(models)):\n",
    "    model_result[models_name[i]] = [model_score(models[i],q) for q in quality]\n",
    "        \n",
    "pd.DataFrame(model_result, index = ['precision', 'recall', 'f1_weighted'])"
   ]
  },
  {
   "cell_type": "markdown",
   "id": "41feb700",
   "metadata": {},
   "source": [
    "Лучше всего справились модели RandomForestClassifier и ComplementNB\n",
    "Построим одну из них отдельно и посмотрим результат:"
   ]
  },
  {
   "cell_type": "code",
   "execution_count": 97,
   "id": "6d60a5eb",
   "metadata": {},
   "outputs": [],
   "source": [
    "best_model = ComplementNB()\n",
    "best_model.fit(X_train, y_train)\n",
    "y_pred = best_model.predict(X_test)\n",
    "\n",
    "\n",
    "y_test_index = y_test.index.tolist()\n",
    "d = {'x_test': comments.loc[y_test_index].comment.values, 'y_test': y_test, 'y_pred': y_pred}\n",
    "df_ComplementNB = pd.DataFrame(d)"
   ]
  },
  {
   "cell_type": "code",
   "execution_count": 98,
   "id": "149bb0bb",
   "metadata": {},
   "outputs": [
    {
     "data": {
      "text/plain": [
       "0.7194382381104373"
      ]
     },
     "execution_count": 98,
     "metadata": {},
     "output_type": "execute_result"
    }
   ],
   "source": [
    "accuracy_score(y_pred,y_test)"
   ]
  },
  {
   "cell_type": "code",
   "execution_count": 54,
   "id": "c15833b8",
   "metadata": {},
   "outputs": [
    {
     "data": {
      "text/html": [
       "<div>\n",
       "<style scoped>\n",
       "    .dataframe tbody tr th:only-of-type {\n",
       "        vertical-align: middle;\n",
       "    }\n",
       "\n",
       "    .dataframe tbody tr th {\n",
       "        vertical-align: top;\n",
       "    }\n",
       "\n",
       "    .dataframe thead th {\n",
       "        text-align: right;\n",
       "    }\n",
       "</style>\n",
       "<table border=\"1\" class=\"dataframe\">\n",
       "  <thead>\n",
       "    <tr style=\"text-align: right;\">\n",
       "      <th></th>\n",
       "      <th>x_test</th>\n",
       "      <th>y_test</th>\n",
       "      <th>y_pred</th>\n",
       "    </tr>\n",
       "  </thead>\n",
       "  <tbody>\n",
       "    <tr>\n",
       "      <th>99952</th>\n",
       "      <td>Это кошмар! Это не учительница. Она ходит  ли...</td>\n",
       "      <td>2</td>\n",
       "      <td>2</td>\n",
       "    </tr>\n",
       "    <tr>\n",
       "      <th>99527</th>\n",
       "      <td>Мне не очень понравилась. Она грубо с ребёнко...</td>\n",
       "      <td>2</td>\n",
       "      <td>2</td>\n",
       "    </tr>\n",
       "    <tr>\n",
       "      <th>76412</th>\n",
       "      <td>Мне не понравилось то как Марина Михайловна о...</td>\n",
       "      <td>3</td>\n",
       "      <td>5</td>\n",
       "    </tr>\n",
       "    <tr>\n",
       "      <th>118268</th>\n",
       "      <td>Со Светланой Александровной моя дочь нескольк...</td>\n",
       "      <td>4</td>\n",
       "      <td>4</td>\n",
       "    </tr>\n",
       "    <tr>\n",
       "      <th>121604</th>\n",
       "      <td>Константин Андреевич - грамотный преподавател...</td>\n",
       "      <td>4</td>\n",
       "      <td>4</td>\n",
       "    </tr>\n",
       "    <tr>\n",
       "      <th>34202</th>\n",
       "      <td>У меня состоялось с репетитором около трех за...</td>\n",
       "      <td>4</td>\n",
       "      <td>4</td>\n",
       "    </tr>\n",
       "    <tr>\n",
       "      <th>95398</th>\n",
       "      <td>Екатерина Олеговна помогала Елене подготовить...</td>\n",
       "      <td>5</td>\n",
       "      <td>5</td>\n",
       "    </tr>\n",
       "    <tr>\n",
       "      <th>98512</th>\n",
       "      <td>Ольга выполняла работу по озвучиванию романа ...</td>\n",
       "      <td>5</td>\n",
       "      <td>2</td>\n",
       "    </tr>\n",
       "    <tr>\n",
       "      <th>92991</th>\n",
       "      <td>Дочь занятиям с Юлией Борисовной рада. Она хо...</td>\n",
       "      <td>5</td>\n",
       "      <td>5</td>\n",
       "    </tr>\n",
       "    <tr>\n",
       "      <th>90250</th>\n",
       "      <td>Отличная знающая девушка. Приятно разговарива...</td>\n",
       "      <td>5</td>\n",
       "      <td>5</td>\n",
       "    </tr>\n",
       "    <tr>\n",
       "      <th>74468</th>\n",
       "      <td>Плюсы: Активная энергичная объясняет доступно...</td>\n",
       "      <td>5</td>\n",
       "      <td>5</td>\n",
       "    </tr>\n",
       "    <tr>\n",
       "      <th>91614</th>\n",
       "      <td>Анастасия Олеговна очень хороший и самое глав...</td>\n",
       "      <td>5</td>\n",
       "      <td>5</td>\n",
       "    </tr>\n",
       "    <tr>\n",
       "      <th>74453</th>\n",
       "      <td>Татьяна Ивановна - прекрасный преподаватель н...</td>\n",
       "      <td>5</td>\n",
       "      <td>5</td>\n",
       "    </tr>\n",
       "    <tr>\n",
       "      <th>74566</th>\n",
       "      <td>Мне репетитор помогла. Оценка осталась та же ...</td>\n",
       "      <td>5</td>\n",
       "      <td>5</td>\n",
       "    </tr>\n",
       "    <tr>\n",
       "      <th>93016</th>\n",
       "      <td>У меня есть цель - хорошо ориентироваться в г...</td>\n",
       "      <td>5</td>\n",
       "      <td>5</td>\n",
       "    </tr>\n",
       "    <tr>\n",
       "      <th>94173</th>\n",
       "      <td>Занимаемся с Павлом Викторовичем около полуме...</td>\n",
       "      <td>5</td>\n",
       "      <td>5</td>\n",
       "    </tr>\n",
       "    <tr>\n",
       "      <th>73546</th>\n",
       "      <td>Мы с удовольствием занимаемся с Александрой Е...</td>\n",
       "      <td>5</td>\n",
       "      <td>5</td>\n",
       "    </tr>\n",
       "    <tr>\n",
       "      <th>93966</th>\n",
       "      <td>Сергей был единственным откликнувшимся на зак...</td>\n",
       "      <td>5</td>\n",
       "      <td>5</td>\n",
       "    </tr>\n",
       "    <tr>\n",
       "      <th>96704</th>\n",
       "      <td>Хороший педагог. На данный момент мы не заним...</td>\n",
       "      <td>5</td>\n",
       "      <td>5</td>\n",
       "    </tr>\n",
       "    <tr>\n",
       "      <th>86540</th>\n",
       "      <td>Большое спасибо Елене! Работа была выполнена ...</td>\n",
       "      <td>5</td>\n",
       "      <td>5</td>\n",
       "    </tr>\n",
       "  </tbody>\n",
       "</table>\n",
       "</div>"
      ],
      "text/plain": [
       "                                                   x_test  y_test  y_pred\n",
       "99952    Это кошмар! Это не учительница. Она ходит  ли...       2       2\n",
       "99527    Мне не очень понравилась. Она грубо с ребёнко...       2       2\n",
       "76412    Мне не понравилось то как Марина Михайловна о...       3       5\n",
       "118268   Со Светланой Александровной моя дочь нескольк...       4       4\n",
       "121604   Константин Андреевич - грамотный преподавател...       4       4\n",
       "34202    У меня состоялось с репетитором около трех за...       4       4\n",
       "95398    Екатерина Олеговна помогала Елене подготовить...       5       5\n",
       "98512    Ольга выполняла работу по озвучиванию романа ...       5       2\n",
       "92991    Дочь занятиям с Юлией Борисовной рада. Она хо...       5       5\n",
       "90250    Отличная знающая девушка. Приятно разговарива...       5       5\n",
       "74468    Плюсы: Активная энергичная объясняет доступно...       5       5\n",
       "91614    Анастасия Олеговна очень хороший и самое глав...       5       5\n",
       "74453    Татьяна Ивановна - прекрасный преподаватель н...       5       5\n",
       "74566    Мне репетитор помогла. Оценка осталась та же ...       5       5\n",
       "93016    У меня есть цель - хорошо ориентироваться в г...       5       5\n",
       "94173    Занимаемся с Павлом Викторовичем около полуме...       5       5\n",
       "73546    Мы с удовольствием занимаемся с Александрой Е...       5       5\n",
       "93966    Сергей был единственным откликнувшимся на зак...       5       5\n",
       "96704    Хороший педагог. На данный момент мы не заним...       5       5\n",
       "86540    Большое спасибо Елене! Работа была выполнена ...       5       5"
      ]
     },
     "execution_count": 54,
     "metadata": {},
     "output_type": "execute_result"
    }
   ],
   "source": [
    "df_ComplementNB[:20].sort_values(by = ['y_test'])"
   ]
  },
  {
   "cell_type": "markdown",
   "id": "cca6a9d0",
   "metadata": {},
   "source": [
    "Выведем строки, где y_test отличается от y_pred больше, чем на 2 и рассмотрим несколько примеров:"
   ]
  },
  {
   "cell_type": "code",
   "execution_count": 57,
   "id": "695fd3d2",
   "metadata": {},
   "outputs": [
    {
     "data": {
      "text/html": [
       "<div>\n",
       "<style scoped>\n",
       "    .dataframe tbody tr th:only-of-type {\n",
       "        vertical-align: middle;\n",
       "    }\n",
       "\n",
       "    .dataframe tbody tr th {\n",
       "        vertical-align: top;\n",
       "    }\n",
       "\n",
       "    .dataframe thead th {\n",
       "        text-align: right;\n",
       "    }\n",
       "</style>\n",
       "<table border=\"1\" class=\"dataframe\">\n",
       "  <thead>\n",
       "    <tr style=\"text-align: right;\">\n",
       "      <th></th>\n",
       "      <th>x_test</th>\n",
       "      <th>y_test</th>\n",
       "      <th>y_pred</th>\n",
       "    </tr>\n",
       "  </thead>\n",
       "  <tbody>\n",
       "    <tr>\n",
       "      <th>98512</th>\n",
       "      <td>Ольга выполняла работу по озвучиванию романа ...</td>\n",
       "      <td>5</td>\n",
       "      <td>2</td>\n",
       "    </tr>\n",
       "    <tr>\n",
       "      <th>95129</th>\n",
       "      <td>Спасибо большое Марии! Мой сын Игорь единстве...</td>\n",
       "      <td>4</td>\n",
       "      <td>2</td>\n",
       "    </tr>\n",
       "    <tr>\n",
       "      <th>8448</th>\n",
       "      <td>С Сергеем Михайловичем очень хорошо поговорил...</td>\n",
       "      <td>4</td>\n",
       "      <td>2</td>\n",
       "    </tr>\n",
       "    <tr>\n",
       "      <th>18791</th>\n",
       "      <td>Здравствуйте!Спасибо за Алексея Александрович...</td>\n",
       "      <td>4</td>\n",
       "      <td>2</td>\n",
       "    </tr>\n",
       "    <tr>\n",
       "      <th>89420</th>\n",
       "      <td>Хороший педагог. Она знает предмет и умеет ег...</td>\n",
       "      <td>5</td>\n",
       "      <td>3</td>\n",
       "    </tr>\n",
       "    <tr>\n",
       "      <th>86419</th>\n",
       "      <td>Хочу сказать спасибо Денису за занятия.Вижу в...</td>\n",
       "      <td>5</td>\n",
       "      <td>3</td>\n",
       "    </tr>\n",
       "    <tr>\n",
       "      <th>80363</th>\n",
       "      <td>Нас вполне устраивала Алла Олеговна несмотря ...</td>\n",
       "      <td>4</td>\n",
       "      <td>2</td>\n",
       "    </tr>\n",
       "    <tr>\n",
       "      <th>94747</th>\n",
       "      <td>Невероятно крутой специалист  очень образован...</td>\n",
       "      <td>5</td>\n",
       "      <td>2</td>\n",
       "    </tr>\n",
       "    <tr>\n",
       "      <th>91875</th>\n",
       "      <td>ЕГЭ сдали на четверку  но ближе к пятерке. Пр...</td>\n",
       "      <td>5</td>\n",
       "      <td>2</td>\n",
       "    </tr>\n",
       "    <tr>\n",
       "      <th>40773</th>\n",
       "      <td>Специалист приезжал к нам домой. Рекомендовал...</td>\n",
       "      <td>4</td>\n",
       "      <td>2</td>\n",
       "    </tr>\n",
       "  </tbody>\n",
       "</table>\n",
       "</div>"
      ],
      "text/plain": [
       "                                                  x_test  y_test  y_pred\n",
       "98512   Ольга выполняла работу по озвучиванию романа ...       5       2\n",
       "95129   Спасибо большое Марии! Мой сын Игорь единстве...       4       2\n",
       "8448    С Сергеем Михайловичем очень хорошо поговорил...       4       2\n",
       "18791   Здравствуйте!Спасибо за Алексея Александрович...       4       2\n",
       "89420   Хороший педагог. Она знает предмет и умеет ег...       5       3\n",
       "86419   Хочу сказать спасибо Денису за занятия.Вижу в...       5       3\n",
       "80363   Нас вполне устраивала Алла Олеговна несмотря ...       4       2\n",
       "94747   Невероятно крутой специалист  очень образован...       5       2\n",
       "91875   ЕГЭ сдали на четверку  но ближе к пятерке. Пр...       5       2\n",
       "40773   Специалист приезжал к нам домой. Рекомендовал...       4       2"
      ]
     },
     "execution_count": 57,
     "metadata": {},
     "output_type": "execute_result"
    }
   ],
   "source": [
    "df_ComplementNB.loc[(df_ComplementNB['y_test'] - df_ComplementNB['y_pred']) > 1][:10]"
   ]
  },
  {
   "cell_type": "code",
   "execution_count": 53,
   "id": "3fb9ad38",
   "metadata": {},
   "outputs": [
    {
     "data": {
      "text/plain": [
       "' Спасибо большое Марии! Мой сын Игорь единственный из взвода ( он суворовец) принес летнее домашнее задание. У него очень тяжелый учитель  глубокая пенсионерка  мучает детей  но сейчас дела получше  чем в прошлом учебном году. Спасибо.'"
      ]
     },
     "execution_count": 53,
     "metadata": {},
     "output_type": "execute_result"
    }
   ],
   "source": [
    "df_ComplementNB.x_test[95129]"
   ]
  },
  {
   "cell_type": "code",
   "execution_count": 46,
   "id": "00a3c0e6",
   "metadata": {},
   "outputs": [
    {
     "data": {
      "text/plain": [
       "' Ольга выполняла работу по озвучиванию романа \"Доза любви\" для размещения в интернет-магазине *****. Творческий подход  отсутствие ошибок и заминок. Все треки были сданы в согласованном формате и по изначально оговоренной стоимости. В процессе исполнения задания Ольга постоянно была на связи  сообщала о ходе работы и промежуточных результатах. Это было очень приятно.'"
      ]
     },
     "execution_count": 46,
     "metadata": {},
     "output_type": "execute_result"
    }
   ],
   "source": [
    "df_ComplementNB.x_test[98512]"
   ]
  },
  {
   "cell_type": "markdown",
   "id": "6fd0b4bd",
   "metadata": {},
   "source": [
    "В обоих примерах модель предсказывала оценки ниже истинных. Возможно повлияли такие слова, как: \"тяжелый\", \"мучает\", \"ошибрк\", \"заминок\". Теперь посмотрим примеры, когда модель предсказывает оценки выше истинных:"
   ]
  },
  {
   "cell_type": "code",
   "execution_count": 58,
   "id": "4da72329",
   "metadata": {},
   "outputs": [
    {
     "data": {
      "text/html": [
       "<div>\n",
       "<style scoped>\n",
       "    .dataframe tbody tr th:only-of-type {\n",
       "        vertical-align: middle;\n",
       "    }\n",
       "\n",
       "    .dataframe tbody tr th {\n",
       "        vertical-align: top;\n",
       "    }\n",
       "\n",
       "    .dataframe thead th {\n",
       "        text-align: right;\n",
       "    }\n",
       "</style>\n",
       "<table border=\"1\" class=\"dataframe\">\n",
       "  <thead>\n",
       "    <tr style=\"text-align: right;\">\n",
       "      <th></th>\n",
       "      <th>x_test</th>\n",
       "      <th>y_test</th>\n",
       "      <th>y_pred</th>\n",
       "    </tr>\n",
       "  </thead>\n",
       "  <tbody>\n",
       "    <tr>\n",
       "      <th>76412</th>\n",
       "      <td>Мне не понравилось то как Марина Михайловна о...</td>\n",
       "      <td>3</td>\n",
       "      <td>5</td>\n",
       "    </tr>\n",
       "    <tr>\n",
       "      <th>65708</th>\n",
       "      <td>С Анастасией Геннадьевной дочь занималась сов...</td>\n",
       "      <td>2</td>\n",
       "      <td>5</td>\n",
       "    </tr>\n",
       "    <tr>\n",
       "      <th>72465</th>\n",
       "      <td>Плюсы: Некоторые темы ребенок понял стал само...</td>\n",
       "      <td>3</td>\n",
       "      <td>5</td>\n",
       "    </tr>\n",
       "    <tr>\n",
       "      <th>107057</th>\n",
       "      <td>Мы отзанимались с Иншатом Каримовичем всего о...</td>\n",
       "      <td>2</td>\n",
       "      <td>4</td>\n",
       "    </tr>\n",
       "    <tr>\n",
       "      <th>41501</th>\n",
       "      <td>Плюсы: Пунктуальность Минусы: Непонятная сист...</td>\n",
       "      <td>2</td>\n",
       "      <td>5</td>\n",
       "    </tr>\n",
       "    <tr>\n",
       "      <th>62634</th>\n",
       "      <td>Плюсы: Готовность помочь в подготовке Минусы:...</td>\n",
       "      <td>3</td>\n",
       "      <td>5</td>\n",
       "    </tr>\n",
       "    <tr>\n",
       "      <th>1722</th>\n",
       "      <td>Нареканий к организационным вопросам к Светла...</td>\n",
       "      <td>3</td>\n",
       "      <td>5</td>\n",
       "    </tr>\n",
       "    <tr>\n",
       "      <th>107561</th>\n",
       "      <td>ИЛЬМИРА ДАМИРОВНА ПРОВЕЛА ЗАНЯТИЯ  ОГРОМНОЕ С...</td>\n",
       "      <td>3</td>\n",
       "      <td>5</td>\n",
       "    </tr>\n",
       "    <tr>\n",
       "      <th>47955</th>\n",
       "      <td>К сожалению мы на тройку сдали ОГЭ по математ...</td>\n",
       "      <td>3</td>\n",
       "      <td>5</td>\n",
       "    </tr>\n",
       "    <tr>\n",
       "      <th>69905</th>\n",
       "      <td>Плюсы: Пунктуальна. Хорошо объясняет материал...</td>\n",
       "      <td>3</td>\n",
       "      <td>5</td>\n",
       "    </tr>\n",
       "  </tbody>\n",
       "</table>\n",
       "</div>"
      ],
      "text/plain": [
       "                                                   x_test  y_test  y_pred\n",
       "76412    Мне не понравилось то как Марина Михайловна о...       3       5\n",
       "65708    С Анастасией Геннадьевной дочь занималась сов...       2       5\n",
       "72465    Плюсы: Некоторые темы ребенок понял стал само...       3       5\n",
       "107057   Мы отзанимались с Иншатом Каримовичем всего о...       2       4\n",
       "41501    Плюсы: Пунктуальность Минусы: Непонятная сист...       2       5\n",
       "62634    Плюсы: Готовность помочь в подготовке Минусы:...       3       5\n",
       "1722     Нареканий к организационным вопросам к Светла...       3       5\n",
       "107561   ИЛЬМИРА ДАМИРОВНА ПРОВЕЛА ЗАНЯТИЯ  ОГРОМНОЕ С...       3       5\n",
       "47955    К сожалению мы на тройку сдали ОГЭ по математ...       3       5\n",
       "69905    Плюсы: Пунктуальна. Хорошо объясняет материал...       3       5"
      ]
     },
     "execution_count": 58,
     "metadata": {},
     "output_type": "execute_result"
    }
   ],
   "source": [
    "df_ComplementNB.loc[(df_ComplementNB['y_pred'] - df_ComplementNB['y_test']) > 1][:10]"
   ]
  },
  {
   "cell_type": "markdown",
   "id": "2890460a",
   "metadata": {},
   "source": [
    "Есть отзывы с сарказмом, что модели сложно оценить:"
   ]
  },
  {
   "cell_type": "code",
   "execution_count": 63,
   "id": "70010872",
   "metadata": {},
   "outputs": [
    {
     "data": {
      "text/plain": [
       "' ИЛЬМИРА ДАМИРОВНА ПРОВЕЛА ЗАНЯТИЯ  ОГРОМНОЕ СПАСИБО! ЗАНИМАТЬСЯ НАЧАЛИ С ДРУГОЙ ДАТЫ  А НИ ТОГДА   КОГДА БЫЛО ЗАЯВЛЕНО ПРИ ПОИСКЕ УЧИТЕЛЯ. ГРАФИК ЗАНЯТИЙ ЧАСТО МЕНЯЛСЯ  СЧИТАЮ  ЧТО ПЕДАГОГ НЕ СОВСЕМ КОРРЕКТНО ПОДОБРАН  НАМ НУЖНО БЫЛО ПОВТОРИТЬ ШКОЛЬНУЮ ПРОГРАММУ НАЧАЛЬНЫХ КЛАССОВ И ПОДГОТОВИТЬ РЕБЕНКА К 5 КЛАССУ. ИЛЬМИРА ДАМИРОВНА ПЕДАГОГ СТАРШИХ КЛАССОВ  СООТВЕТСТВЕННО  МЕТОДИКА РАБОТЫ ОТЛИЧАЕТСЯ....'"
      ]
     },
     "execution_count": 63,
     "metadata": {},
     "output_type": "execute_result"
    }
   ],
   "source": [
    "df_ComplementNB.x_test[107561]"
   ]
  },
  {
   "cell_type": "markdown",
   "id": "8161cbff",
   "metadata": {},
   "source": [
    "В случае второго отзыва, точно повлияли слова: \"пунктуальность\", \"хорошего\":"
   ]
  },
  {
   "cell_type": "code",
   "execution_count": 65,
   "id": "2d154960",
   "metadata": {},
   "outputs": [
    {
     "data": {
      "text/plain": [
       "' Плюсы: Пунктуальность Минусы: Непонятная система преподавания Описание: Искал репетитора для подготовки ребенка к ЕГЭ по физике. Лев заявил что уровень знаний очень низкий и подготовить за учебный год нереально. Договорились о том что начнут проходить физику с начала чтобы хотя бы к вузу был нормальный уровень знаний чтобы суметь воспринять программу института по физике. Прошло 4 занятия механику даже не начали решали какие-то странные задачи про переводы метры в дюймы и т.п. Нашел другого репетитора который сразу же начал механику с первого занятия. Отмечу что в данном диапазоне цен очень сложно найти хорошего преподавателя'"
      ]
     },
     "execution_count": 65,
     "metadata": {},
     "output_type": "execute_result"
    }
   ],
   "source": [
    "df_ComplementNB.x_test[41501]"
   ]
  },
  {
   "cell_type": "markdown",
   "id": "85f2f698",
   "metadata": {},
   "source": [
    "Посмотрим на accuacy классификатора RandomForestClassifier:"
   ]
  },
  {
   "cell_type": "code",
   "execution_count": 101,
   "id": "4af2f26b",
   "metadata": {},
   "outputs": [],
   "source": [
    "best_model = RandomForestClassifier()\n",
    "best_model.fit(X_train, y_train)\n",
    "y_pred = best_model.predict(X_test)\n",
    "\n",
    "\n",
    "y_test_index = y_test.index.tolist()\n",
    "d = {'x_test': comments.loc[y_test_index].comment.values, 'y_test': y_test, 'y_pred': y_pred}\n",
    "df_RandomForestClassifier = pd.DataFrame(d)"
   ]
  },
  {
   "cell_type": "code",
   "execution_count": 102,
   "id": "eb646031",
   "metadata": {},
   "outputs": [
    {
     "data": {
      "text/plain": [
       "0.7122566230450048"
      ]
     },
     "execution_count": 102,
     "metadata": {},
     "output_type": "execute_result"
    }
   ],
   "source": [
    "accuracy_score(y_pred,y_test)"
   ]
  },
  {
   "cell_type": "markdown",
   "id": "92d28953",
   "metadata": {},
   "source": [
    "## GridSearchCV"
   ]
  },
  {
   "cell_type": "code",
   "execution_count": 79,
   "id": "77592eff",
   "metadata": {},
   "outputs": [],
   "source": [
    "params = [\n",
    "    {\n",
    "        'C' : [0.5, 1.0, 5.0], \n",
    "        'tol' : [1e-4, 1e-5]\n",
    "    }, {  \n",
    "        'n_estimators': [20, 40, 50],\n",
    "        'max_depth': [4, 5, 6],\n",
    "        'max_features': [3, 5, 10],\n",
    "        'min_samples_split': [3, 5, 10, 15],\n",
    "    }, {\n",
    "        'alpha' : [0.01, 0.1, 1.0, 2.0, 5.0]\n",
    "    }\n",
    "]"
   ]
  },
  {
   "cell_type": "code",
   "execution_count": 80,
   "id": "ae70fe5f",
   "metadata": {},
   "outputs": [],
   "source": [
    "def model_best_params_score(model, criterion, params):\n",
    "    grid_CV_1 = GridSearchCV(model, param_grid = params, cv=2, scoring='accuracy')\n",
    "    grid_CV_1.fit(X_train, y_train)\n",
    "    best_model = grid_CV_1.best_estimator_\n",
    "    y_pred = best_model.predict(X_test) \n",
    "    return criterion(y_pred, y_test, average='weighted', zero_division=0), grid_CV_1.best_params_\n",
    "\n",
    "model_best_params = {}\n",
    "\n",
    "for i in range(3):\n",
    "    model_best_params[models_name[i]] = [model_best_params_score(models[i],precision_score,params[i])[0],\n",
    "                                         model_best_params_score(models[i],recall_score,params[i])[0],\n",
    "                                         model_best_params_score(models[i],f1_score,params[i])[0],\n",
    "                                         model_best_params_score(models[i],f1_score,params[i])[1]]\n",
    "    \n",
    "models_best_params = pd.DataFrame(model_best_params, index = ['precision', 'recall', 'f1_weighted','best_params'])"
   ]
  },
  {
   "cell_type": "code",
   "execution_count": 82,
   "id": "06403c0d",
   "metadata": {},
   "outputs": [
    {
     "data": {
      "text/html": [
       "<div>\n",
       "<style scoped>\n",
       "    .dataframe tbody tr th:only-of-type {\n",
       "        vertical-align: middle;\n",
       "    }\n",
       "\n",
       "    .dataframe tbody tr th {\n",
       "        vertical-align: top;\n",
       "    }\n",
       "\n",
       "    .dataframe thead th {\n",
       "        text-align: right;\n",
       "    }\n",
       "</style>\n",
       "<table border=\"1\" class=\"dataframe\">\n",
       "  <thead>\n",
       "    <tr style=\"text-align: right;\">\n",
       "      <th></th>\n",
       "      <th>LogisticRegression</th>\n",
       "      <th>RandomForestClassifier</th>\n",
       "      <th>ComplementNB</th>\n",
       "    </tr>\n",
       "  </thead>\n",
       "  <tbody>\n",
       "    <tr>\n",
       "      <th>precision</th>\n",
       "      <td>0.807458</td>\n",
       "      <td>1.0</td>\n",
       "      <td>0.72431</td>\n",
       "    </tr>\n",
       "    <tr>\n",
       "      <th>recall</th>\n",
       "      <td>0.760294</td>\n",
       "      <td>0.627673</td>\n",
       "      <td>0.711459</td>\n",
       "    </tr>\n",
       "    <tr>\n",
       "      <th>f1_weighted</th>\n",
       "      <td>0.777502</td>\n",
       "      <td>0.771252</td>\n",
       "      <td>0.712507</td>\n",
       "    </tr>\n",
       "    <tr>\n",
       "      <th>best_params</th>\n",
       "      <td>{'C': 1.0, 'tol': 0.0001}</td>\n",
       "      <td>{'max_depth': 4, 'max_features': 3, 'min_sampl...</td>\n",
       "      <td>{'alpha': 0.1}</td>\n",
       "    </tr>\n",
       "  </tbody>\n",
       "</table>\n",
       "</div>"
      ],
      "text/plain": [
       "                    LogisticRegression  \\\n",
       "precision                     0.807458   \n",
       "recall                        0.760294   \n",
       "f1_weighted                   0.777502   \n",
       "best_params  {'C': 1.0, 'tol': 0.0001}   \n",
       "\n",
       "                                        RandomForestClassifier    ComplementNB  \n",
       "precision                                                  1.0         0.72431  \n",
       "recall                                                0.627673        0.711459  \n",
       "f1_weighted                                           0.771252        0.712507  \n",
       "best_params  {'max_depth': 4, 'max_features': 3, 'min_sampl...  {'alpha': 0.1}  "
      ]
     },
     "execution_count": 82,
     "metadata": {},
     "output_type": "execute_result"
    }
   ],
   "source": [
    "models_best_params"
   ]
  },
  {
   "cell_type": "code",
   "execution_count": 84,
   "id": "c5c8763a",
   "metadata": {},
   "outputs": [
    {
     "data": {
      "text/plain": [
       "array([[{'C': 1.0, 'tol': 0.0001},\n",
       "        {'max_depth': 4, 'max_features': 3, 'min_samples_split': 3, 'n_estimators': 20},\n",
       "        {'alpha': 0.1}]], dtype=object)"
      ]
     },
     "execution_count": 84,
     "metadata": {},
     "output_type": "execute_result"
    }
   ],
   "source": [
    "models_best_params[3:].values"
   ]
  },
  {
   "cell_type": "code",
   "execution_count": 91,
   "id": "9ae83ed4",
   "metadata": {},
   "outputs": [],
   "source": [
    "best_model = RandomForestClassifier(max_depth=4, max_features=3, min_samples_split=3, n_estimators=20)\n",
    "best_model.fit(X_train, y_train)\n",
    "y_pred = best_model.predict(X_test)\n",
    "\n",
    "y_test_index = y_test.index.tolist()\n",
    "d = {'x_test': comments.loc[y_test_index].comment.values, 'y_test': y_test, 'y_pred': y_pred}\n",
    "df_RandomForestC = pd.DataFrame(d)"
   ]
  },
  {
   "cell_type": "code",
   "execution_count": 96,
   "id": "225559c6",
   "metadata": {},
   "outputs": [
    {
     "data": {
      "text/html": [
       "<div>\n",
       "<style scoped>\n",
       "    .dataframe tbody tr th:only-of-type {\n",
       "        vertical-align: middle;\n",
       "    }\n",
       "\n",
       "    .dataframe tbody tr th {\n",
       "        vertical-align: top;\n",
       "    }\n",
       "\n",
       "    .dataframe thead th {\n",
       "        text-align: right;\n",
       "    }\n",
       "</style>\n",
       "<table border=\"1\" class=\"dataframe\">\n",
       "  <thead>\n",
       "    <tr style=\"text-align: right;\">\n",
       "      <th></th>\n",
       "      <th>x_test</th>\n",
       "      <th>y_test</th>\n",
       "      <th>y_pred</th>\n",
       "    </tr>\n",
       "  </thead>\n",
       "  <tbody>\n",
       "  </tbody>\n",
       "</table>\n",
       "</div>"
      ],
      "text/plain": [
       "Empty DataFrame\n",
       "Columns: [x_test, y_test, y_pred]\n",
       "Index: []"
      ]
     },
     "execution_count": 96,
     "metadata": {},
     "output_type": "execute_result"
    }
   ],
   "source": [
    "df_RandomForestC.loc[df_RandomForestC['y_pred'] != 5]"
   ]
  },
  {
   "cell_type": "markdown",
   "id": "9afdeef9",
   "metadata": {},
   "source": [
    "Значение precision у RandomForestClassifier = 1.0, потому что модель предсказала для всех данных значение 5, что можно было предполагать, учитывая небольшой дисбаланс."
   ]
  },
  {
   "cell_type": "markdown",
   "id": "8769fd4a",
   "metadata": {},
   "source": [
    "С гридом, на удивление, модели построились не такими качественными, как с дефолтными параметрами. Лучшими остаеюся модели ComplementNB и RandomForestClassifier с дефолтными значениями."
   ]
  },
  {
   "cell_type": "code",
   "execution_count": null,
   "id": "4d000374",
   "metadata": {},
   "outputs": [],
   "source": []
  }
 ],
 "metadata": {
  "kernelspec": {
   "display_name": "Python 3 (ipykernel)",
   "language": "python",
   "name": "python3"
  },
  "language_info": {
   "codemirror_mode": {
    "name": "ipython",
    "version": 3
   },
   "file_extension": ".py",
   "mimetype": "text/x-python",
   "name": "python",
   "nbconvert_exporter": "python",
   "pygments_lexer": "ipython3",
   "version": "3.10.8"
  }
 },
 "nbformat": 4,
 "nbformat_minor": 5
}
