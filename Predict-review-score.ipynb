{
 "cells": [
  {
   "cell_type": "code",
   "execution_count": 2,
   "id": "6ca25a65",
   "metadata": {},
   "outputs": [],
   "source": [
    "import numpy as np\n",
    "import pandas as pd\n",
    "import seaborn as sns\n",
    "import re"
   ]
  },
  {
   "cell_type": "code",
   "execution_count": 21,
   "id": "cc07972b",
   "metadata": {},
   "outputs": [],
   "source": [
    "comments_msk = pd.read_csv('data_msk.csv', sep=',', decimal=\",\")\n",
    "comments_msk = comments_msk.drop(columns = ['commentsLink', ' index'], axis=1)\n",
    "\n",
    "comments_spb = pd.read_csv('data_spb.csv', sep=',', decimal=\",\")\n",
    "comments_spb = comments_spb.drop(columns = ['commentsLink', ' index'], axis=1)\n",
    "\n",
    "comments_ekt = pd.read_csv('data_ekt.csv', sep=',', decimal=\",\")\n",
    "comments_ekt = comments_ekt.drop(columns = ['commentsLink', ' index'], axis=1)\n",
    "\n",
    "comments_ksdr = pd.read_csv('data_ksdr.csv', sep=',', decimal=\",\")\n",
    "comments_ksdr = comments_ksdr.drop(columns = ['commentsLink', ' index'], axis=1)\n",
    "\n",
    "comments_kzn = pd.read_csv('data_kzn.csv', sep=',', decimal=\",\")\n",
    "comments_kzn = comments_kzn.drop(columns = ['commentsLink', ' index'], axis=1)\n",
    "\n",
    "comments_nnov = pd.read_csv('data_nnov.csv', sep=',', decimal=\",\")\n",
    "comments_nnov = comments_nnov.drop(columns = ['commentsLink', ' index'], axis=1)\n",
    "\n",
    "comments_rnd = pd.read_csv('data_rnd.csv', sep=',', decimal=\",\")\n",
    "comments_rnd = comments_rnd.drop(columns = ['commentsLink', ' index'], axis=1)"
   ]
  },
  {
   "cell_type": "code",
   "execution_count": 22,
   "id": "cfed7349",
   "metadata": {},
   "outputs": [
    {
     "data": {
      "text/html": [
       "<div>\n",
       "<style scoped>\n",
       "    .dataframe tbody tr th:only-of-type {\n",
       "        vertical-align: middle;\n",
       "    }\n",
       "\n",
       "    .dataframe tbody tr th {\n",
       "        vertical-align: top;\n",
       "    }\n",
       "\n",
       "    .dataframe thead th {\n",
       "        text-align: right;\n",
       "    }\n",
       "</style>\n",
       "<table border=\"1\" class=\"dataframe\">\n",
       "  <thead>\n",
       "    <tr style=\"text-align: right;\">\n",
       "      <th></th>\n",
       "      <th>comment</th>\n",
       "      <th>mark</th>\n",
       "    </tr>\n",
       "  </thead>\n",
       "  <tbody>\n",
       "    <tr>\n",
       "      <th>0</th>\n",
       "      <td>Преподаватель находит индивидуальный подход п...</td>\n",
       "      <td>Оценка: 5+.</td>\n",
       "    </tr>\n",
       "    <tr>\n",
       "      <th>1</th>\n",
       "      <td>Плюсы: Анна Валерьевна обязательна компетентн...</td>\n",
       "      <td>Оценка: 5.</td>\n",
       "    </tr>\n",
       "    <tr>\n",
       "      <th>2</th>\n",
       "      <td>СПАСИБО Анна Валерьевна! Сдали хорошо ЕГЭ. С ...</td>\n",
       "      <td>Оценка: 5.</td>\n",
       "    </tr>\n",
       "    <tr>\n",
       "      <th>3</th>\n",
       "      <td>50 % успеха - наличие контакта с преподавател...</td>\n",
       "      <td>Оценка: 5+.</td>\n",
       "    </tr>\n",
       "    <tr>\n",
       "      <th>4</th>\n",
       "      <td>Анна Валерьевна является не только уникальным...</td>\n",
       "      <td>Оценка: 5+.</td>\n",
       "    </tr>\n",
       "    <tr>\n",
       "      <th>...</th>\n",
       "      <td>...</td>\n",
       "      <td>...</td>\n",
       "    </tr>\n",
       "    <tr>\n",
       "      <th>7223</th>\n",
       "      <td>С Марией Николаевной мы занимаемся не так час...</td>\n",
       "      <td>Оценка: 5.</td>\n",
       "    </tr>\n",
       "    <tr>\n",
       "      <th>7224</th>\n",
       "      <td>Хорошо. Она хорошо преподает. Понятно  доступ...</td>\n",
       "      <td>Оценка: 5.</td>\n",
       "    </tr>\n",
       "    <tr>\n",
       "      <th>7225</th>\n",
       "      <td>В принципе  все положительно. Замечательный п...</td>\n",
       "      <td>Оценка: 5.</td>\n",
       "    </tr>\n",
       "    <tr>\n",
       "      <th>7226</th>\n",
       "      <td>Мы занимаемся до сих пор. Впечатления положит...</td>\n",
       "      <td>Оценка: 5.</td>\n",
       "    </tr>\n",
       "    <tr>\n",
       "      <th>7227</th>\n",
       "      <td>Работа репетитора понравилась  замечаний нет....</td>\n",
       "      <td>Оценка: 5.</td>\n",
       "    </tr>\n",
       "  </tbody>\n",
       "</table>\n",
       "<p>132689 rows × 2 columns</p>\n",
       "</div>"
      ],
      "text/plain": [
       "                                                comment          mark\n",
       "0      Преподаватель находит индивидуальный подход п...   Оценка: 5+.\n",
       "1      Плюсы: Анна Валерьевна обязательна компетентн...    Оценка: 5.\n",
       "2      СПАСИБО Анна Валерьевна! Сдали хорошо ЕГЭ. С ...    Оценка: 5.\n",
       "3      50 % успеха - наличие контакта с преподавател...   Оценка: 5+.\n",
       "4      Анна Валерьевна является не только уникальным...   Оценка: 5+.\n",
       "...                                                 ...           ...\n",
       "7223   С Марией Николаевной мы занимаемся не так час...    Оценка: 5.\n",
       "7224   Хорошо. Она хорошо преподает. Понятно  доступ...    Оценка: 5.\n",
       "7225   В принципе  все положительно. Замечательный п...    Оценка: 5.\n",
       "7226   Мы занимаемся до сих пор. Впечатления положит...    Оценка: 5.\n",
       "7227   Работа репетитора понравилась  замечаний нет....    Оценка: 5.\n",
       "\n",
       "[132689 rows x 2 columns]"
      ]
     },
     "execution_count": 22,
     "metadata": {},
     "output_type": "execute_result"
    }
   ],
   "source": [
    "comments = pd.concat([\n",
    "    comments_msk,\n",
    "    comments_spb,\n",
    "    comments_ekt,\n",
    "    comments_ksdr,\n",
    "    comments_kzn,\n",
    "    comments_nnov,\n",
    "    comments_rnd\n",
    "    ], axis=0)\n",
    "comments"
   ]
  },
  {
   "cell_type": "code",
   "execution_count": 23,
   "id": "13c03494",
   "metadata": {},
   "outputs": [],
   "source": [
    "comments = comments.reset_index(drop=True)"
   ]
  },
  {
   "cell_type": "code",
   "execution_count": 24,
   "id": "77a2369a",
   "metadata": {},
   "outputs": [],
   "source": [
    "comments.rename(columns = {' comment' : 'comment', ' mark' : 'mark'}, inplace = True )"
   ]
  },
  {
   "cell_type": "code",
   "execution_count": 25,
   "id": "cdd2f404",
   "metadata": {},
   "outputs": [
    {
     "data": {
      "text/plain": [
       "array([' Оценка: 1.', ' Оценка: 2.', ' Оценка: 3+.', ' Оценка: 3.',\n",
       "       ' Оценка: 3−.', ' Оценка: 4+.', ' Оценка: 4.', ' Оценка: 4−.',\n",
       "       ' Оценка: 5+.', ' Оценка: 5.', ' Оценка: 5−.'], dtype=object)"
      ]
     },
     "execution_count": 25,
     "metadata": {},
     "output_type": "execute_result"
    }
   ],
   "source": [
    "np.unique(comments['mark'])"
   ]
  },
  {
   "cell_type": "code",
   "execution_count": 26,
   "id": "78f91ebe",
   "metadata": {},
   "outputs": [
    {
     "data": {
      "text/html": [
       "<div>\n",
       "<style scoped>\n",
       "    .dataframe tbody tr th:only-of-type {\n",
       "        vertical-align: middle;\n",
       "    }\n",
       "\n",
       "    .dataframe tbody tr th {\n",
       "        vertical-align: top;\n",
       "    }\n",
       "\n",
       "    .dataframe thead th {\n",
       "        text-align: right;\n",
       "    }\n",
       "</style>\n",
       "<table border=\"1\" class=\"dataframe\">\n",
       "  <thead>\n",
       "    <tr style=\"text-align: right;\">\n",
       "      <th></th>\n",
       "      <th>comment</th>\n",
       "    </tr>\n",
       "    <tr>\n",
       "      <th>mark</th>\n",
       "      <th></th>\n",
       "    </tr>\n",
       "  </thead>\n",
       "  <tbody>\n",
       "    <tr>\n",
       "      <th>Оценка: 1.</th>\n",
       "      <td>180</td>\n",
       "    </tr>\n",
       "    <tr>\n",
       "      <th>Оценка: 2.</th>\n",
       "      <td>601</td>\n",
       "    </tr>\n",
       "    <tr>\n",
       "      <th>Оценка: 3+.</th>\n",
       "      <td>152</td>\n",
       "    </tr>\n",
       "    <tr>\n",
       "      <th>Оценка: 3.</th>\n",
       "      <td>969</td>\n",
       "    </tr>\n",
       "    <tr>\n",
       "      <th>Оценка: 3−.</th>\n",
       "      <td>182</td>\n",
       "    </tr>\n",
       "    <tr>\n",
       "      <th>Оценка: 4+.</th>\n",
       "      <td>1446</td>\n",
       "    </tr>\n",
       "    <tr>\n",
       "      <th>Оценка: 4.</th>\n",
       "      <td>3195</td>\n",
       "    </tr>\n",
       "    <tr>\n",
       "      <th>Оценка: 4−.</th>\n",
       "      <td>441</td>\n",
       "    </tr>\n",
       "    <tr>\n",
       "      <th>Оценка: 5+.</th>\n",
       "      <td>56243</td>\n",
       "    </tr>\n",
       "    <tr>\n",
       "      <th>Оценка: 5.</th>\n",
       "      <td>67023</td>\n",
       "    </tr>\n",
       "    <tr>\n",
       "      <th>Оценка: 5−.</th>\n",
       "      <td>1343</td>\n",
       "    </tr>\n",
       "  </tbody>\n",
       "</table>\n",
       "</div>"
      ],
      "text/plain": [
       "              comment\n",
       "mark                 \n",
       " Оценка: 1.       180\n",
       " Оценка: 2.       601\n",
       " Оценка: 3+.      152\n",
       " Оценка: 3.       969\n",
       " Оценка: 3−.      182\n",
       " Оценка: 4+.     1446\n",
       " Оценка: 4.      3195\n",
       " Оценка: 4−.      441\n",
       " Оценка: 5+.    56243\n",
       " Оценка: 5.     67023\n",
       " Оценка: 5−.     1343"
      ]
     },
     "execution_count": 26,
     "metadata": {},
     "output_type": "execute_result"
    }
   ],
   "source": [
    "comments.groupby('mark').nunique()"
   ]
  },
  {
   "cell_type": "code",
   "execution_count": 27,
   "id": "1da7d8bd",
   "metadata": {},
   "outputs": [],
   "source": [
    "comments.loc[(comments['mark'] == ' Оценка: 5.'), 'mark'] = 5\n",
    "comments.loc[(comments['mark'] == ' Оценка: 5+.'), 'mark'] = 5\n",
    "\n",
    "comments.loc[(comments['mark'] == ' Оценка: 5−.'), 'mark'] = 4\n",
    "comments.loc[(comments['mark'] == ' Оценка: 4.'), 'mark'] = 4\n",
    "comments.loc[(comments['mark'] == ' Оценка: 4+.'), 'mark'] = 4\n",
    "\n",
    "comments.loc[(comments['mark'] == ' Оценка: 4−.'), 'mark'] = 3\n",
    "comments.loc[(comments['mark'] == ' Оценка: 3.'), 'mark'] = 3\n",
    "comments.loc[(comments['mark'] == ' Оценка: 3+.'), 'mark'] = 3\n",
    "\n",
    "comments.loc[(comments['mark'] == ' Оценка: 3−.'), 'mark'] = 2\n",
    "comments.loc[(comments['mark'] == ' Оценка: 2.'), 'mark'] = 2\n",
    "comments.loc[(comments['mark'] == ' Оценка: 1.'), 'mark'] = 2"
   ]
  },
  {
   "cell_type": "code",
   "execution_count": 31,
   "id": "2d34e164",
   "metadata": {},
   "outputs": [],
   "source": [
    "comments = comments.sort_values(by = ['mark'])[:-110000]"
   ]
  },
  {
   "cell_type": "code",
   "execution_count": 32,
   "id": "6b02c518",
   "metadata": {},
   "outputs": [
    {
     "data": {
      "text/html": [
       "<div>\n",
       "<style scoped>\n",
       "    .dataframe tbody tr th:only-of-type {\n",
       "        vertical-align: middle;\n",
       "    }\n",
       "\n",
       "    .dataframe tbody tr th {\n",
       "        vertical-align: top;\n",
       "    }\n",
       "\n",
       "    .dataframe thead th {\n",
       "        text-align: right;\n",
       "    }\n",
       "</style>\n",
       "<table border=\"1\" class=\"dataframe\">\n",
       "  <thead>\n",
       "    <tr style=\"text-align: right;\">\n",
       "      <th></th>\n",
       "      <th>comment</th>\n",
       "    </tr>\n",
       "    <tr>\n",
       "      <th>mark</th>\n",
       "      <th></th>\n",
       "    </tr>\n",
       "  </thead>\n",
       "  <tbody>\n",
       "    <tr>\n",
       "      <th>2</th>\n",
       "      <td>963</td>\n",
       "    </tr>\n",
       "    <tr>\n",
       "      <th>3</th>\n",
       "      <td>1562</td>\n",
       "    </tr>\n",
       "    <tr>\n",
       "      <th>4</th>\n",
       "      <td>5976</td>\n",
       "    </tr>\n",
       "    <tr>\n",
       "      <th>5</th>\n",
       "      <td>14080</td>\n",
       "    </tr>\n",
       "  </tbody>\n",
       "</table>\n",
       "</div>"
      ],
      "text/plain": [
       "      comment\n",
       "mark         \n",
       "2         963\n",
       "3        1562\n",
       "4        5976\n",
       "5       14080"
      ]
     },
     "execution_count": 32,
     "metadata": {},
     "output_type": "execute_result"
    }
   ],
   "source": [
    "comments.groupby('mark').nunique()"
   ]
  },
  {
   "cell_type": "code",
   "execution_count": 33,
   "id": "2ad28f87",
   "metadata": {},
   "outputs": [
    {
     "data": {
      "text/html": [
       "<div>\n",
       "<style scoped>\n",
       "    .dataframe tbody tr th:only-of-type {\n",
       "        vertical-align: middle;\n",
       "    }\n",
       "\n",
       "    .dataframe tbody tr th {\n",
       "        vertical-align: top;\n",
       "    }\n",
       "\n",
       "    .dataframe thead th {\n",
       "        text-align: right;\n",
       "    }\n",
       "</style>\n",
       "<table border=\"1\" class=\"dataframe\">\n",
       "  <thead>\n",
       "    <tr style=\"text-align: right;\">\n",
       "      <th></th>\n",
       "      <th>comment</th>\n",
       "      <th>mark</th>\n",
       "    </tr>\n",
       "  </thead>\n",
       "  <tbody>\n",
       "    <tr>\n",
       "      <th>57040</th>\n",
       "      <td>Хороший репетитор. Рекомендуем.</td>\n",
       "      <td>4</td>\n",
       "    </tr>\n",
       "    <tr>\n",
       "      <th>94938</th>\n",
       "      <td>Сама была на первом занятии с преподавателем ...</td>\n",
       "      <td>5</td>\n",
       "    </tr>\n",
       "    <tr>\n",
       "      <th>67872</th>\n",
       "      <td>У Маргариты Викторовны отличные знания англий...</td>\n",
       "      <td>4</td>\n",
       "    </tr>\n",
       "    <tr>\n",
       "      <th>131680</th>\n",
       "      <td>Анастасия Владимировна подошла профессиональн...</td>\n",
       "      <td>4</td>\n",
       "    </tr>\n",
       "    <tr>\n",
       "      <th>92973</th>\n",
       "      <td>У ребенка настолько хорошие результаты  пошли...</td>\n",
       "      <td>5</td>\n",
       "    </tr>\n",
       "    <tr>\n",
       "      <th>...</th>\n",
       "      <td>...</td>\n",
       "      <td>...</td>\n",
       "    </tr>\n",
       "    <tr>\n",
       "      <th>72940</th>\n",
       "      <td>Анастасия Сергеевна очень хороший репетитор и...</td>\n",
       "      <td>5</td>\n",
       "    </tr>\n",
       "    <tr>\n",
       "      <th>98138</th>\n",
       "      <td>Плюсы: Александр Геннадьевич очень доброжелат...</td>\n",
       "      <td>5</td>\n",
       "    </tr>\n",
       "    <tr>\n",
       "      <th>132005</th>\n",
       "      <td>Мы занимаемся три месяца. Работа продолжается...</td>\n",
       "      <td>4</td>\n",
       "    </tr>\n",
       "    <tr>\n",
       "      <th>89068</th>\n",
       "      <td>Мои занятия с репетитором по физике продолжаю...</td>\n",
       "      <td>5</td>\n",
       "    </tr>\n",
       "    <tr>\n",
       "      <th>92457</th>\n",
       "      <td>У нас всё хорошо  внук продолжает заниматься ...</td>\n",
       "      <td>5</td>\n",
       "    </tr>\n",
       "  </tbody>\n",
       "</table>\n",
       "<p>22689 rows × 2 columns</p>\n",
       "</div>"
      ],
      "text/plain": [
       "                                                  comment mark\n",
       "57040                     Хороший репетитор. Рекомендуем.    4\n",
       "94938    Сама была на первом занятии с преподавателем ...    5\n",
       "67872    У Маргариты Викторовны отличные знания англий...    4\n",
       "131680   Анастасия Владимировна подошла профессиональн...    4\n",
       "92973    У ребенка настолько хорошие результаты  пошли...    5\n",
       "...                                                   ...  ...\n",
       "72940    Анастасия Сергеевна очень хороший репетитор и...    5\n",
       "98138    Плюсы: Александр Геннадьевич очень доброжелат...    5\n",
       "132005   Мы занимаемся три месяца. Работа продолжается...    4\n",
       "89068    Мои занятия с репетитором по физике продолжаю...    5\n",
       "92457    У нас всё хорошо  внук продолжает заниматься ...    5\n",
       "\n",
       "[22689 rows x 2 columns]"
      ]
     },
     "execution_count": 33,
     "metadata": {},
     "output_type": "execute_result"
    }
   ],
   "source": [
    "from sklearn.utils import shuffle\n",
    "comments = shuffle(comments)\n",
    "comments"
   ]
  },
  {
   "cell_type": "code",
   "execution_count": 34,
   "id": "eac2a5b6",
   "metadata": {},
   "outputs": [
    {
     "data": {
      "text/plain": [
       "<AxesSubplot: xlabel='mark', ylabel='count'>"
      ]
     },
     "execution_count": 34,
     "metadata": {},
     "output_type": "execute_result"
    },
    {
     "data": {
      "image/png": "[encoded data removed]",
      "text/plain": [
       "<Figure size 640x480 with 1 Axes>"
      ]
     },
     "metadata": {},
     "output_type": "display_data"
    }
   ],
   "source": [
    "sns.countplot(x = comments['mark'],data = comments)"
   ]
  },
  {
   "cell_type": "code",
   "execution_count": 56,
   "id": "e45cfbb4",
   "metadata": {},
   "outputs": [
    {
     "data": {
      "text/plain": [
       "<AxesSubplot: ylabel='Count'>"
      ]
     },
     "execution_count": 56,
     "metadata": {},
     "output_type": "execute_result"
    },
    {
     "data": {
      "image/png": "[encoded data removed]",
      "text/plain": [
       "<Figure size 640x480 with 1 Axes>"
      ]
     },
     "metadata": {},
     "output_type": "display_data"
    }
   ],
   "source": [
    "sns.histplot([len(comment) for comment in comments['comment']])"
   ]
  },
  {
   "cell_type": "code",
   "execution_count": 57,
   "id": "4065e9a2",
   "metadata": {},
   "outputs": [
    {
     "name": "stderr",
     "output_type": "stream",
     "text": [
      "[nltk_data] Downloading package stopwords to\n",
      "[nltk_data]     /Users/natalaantonenko/nltk_data...\n",
      "[nltk_data]   Package stopwords is already up-to-date!\n"
     ]
    }
   ],
   "source": [
    "import nltk\n",
    "from nltk.corpus import stopwords\n",
    "nltk.download('stopwords')\n",
    "stopwords_ru = stopwords.words(\"russian\")\n",
    "stopwords_ru.remove('не')\n",
    "stopwords_ru.remove('нет')"
   ]
  },
  {
   "cell_type": "code",
   "execution_count": 59,
   "id": "f80e2fab",
   "metadata": {},
   "outputs": [],
   "source": [
    "from pymorphy2 import MorphAnalyzer\n",
    "\n",
    "patterns = \"[A-Za-z!#$%&'()*+,./:;<=>?@[\\]^_`{|}~—\\\"\\-]+\"\n",
    "morph = MorphAnalyzer()\n",
    "\n",
    "def preprocessing(doc):\n",
    "    doc = re.sub(patterns, ' ', doc)\n",
    "    tokens = []\n",
    "    for token in doc.split():\n",
    "        if token:\n",
    "            token = token.strip()\n",
    "            token = morph.normal_forms(token)[0]\n",
    "            if token not in stopwords_ru:\n",
    "                tokens.append(token)\n",
    "    if len(tokens) > 7:\n",
    "        return tokens\n",
    "    return None"
   ]
  },
  {
   "cell_type": "code",
   "execution_count": 61,
   "id": "2261b851",
   "metadata": {},
   "outputs": [
    {
     "data": {
      "text/plain": [
       "3849      Было проведено три занятия. Преподаватель обр...\n",
       "45301     Марина Александровна понравилась моему ребёнк...\n",
       "61537     Виктор Борисович - просто умница и как челове...\n",
       "45206     У меня положительный отзыв о Екатерине Сергее...\n",
       "60560     Отличный репетитор! Благодаря Сергею Валерьев...\n",
       "                               ...                        \n",
       "74077     Очень нравится репетитор.Всегда доброжелатель...\n",
       "72702     Лилия Ансафовна – умная внимательна ответстве...\n",
       "49007     Мы остались очень довольны сотрудничеством с ...\n",
       "59018     Меня полностью устроили занятия с преподавате...\n",
       "63387     Занимаюсь с Татьяной Николаевной испанским бо...\n",
       "Name: comment, Length: 17410, dtype: object"
      ]
     },
     "execution_count": 61,
     "metadata": {},
     "output_type": "execute_result"
    }
   ],
   "source": [
    "comments.iloc[:,0]"
   ]
  },
  {
   "cell_type": "code",
   "execution_count": 62,
   "id": "444306ae",
   "metadata": {},
   "outputs": [
    {
     "data": {
      "text/plain": [
       "3849     [провести, занятие, преподаватель, обращаться,...\n",
       "45301    [марина, александрович, понравиться, ребёнок, ...\n",
       "61537    [виктор, борисович, просто, умница, человек, п...\n",
       "45206    [положительный, отзыв, екатерина, сергеевич, ч...\n",
       "60560    [отличный, репетитор, благодаря, сергей, валер...\n",
       "                               ...                        \n",
       "74077    [очень, нравиться, репетитор, доброжелательнав...\n",
       "72702    [лилия, ансафович, –, умный, внимательный, отв...\n",
       "49007    [остаться, очень, довольный, сотрудничество, о...\n",
       "59018    [полностью, устроить, занятие, преподаватель, ...\n",
       "63387    [заниматься, татьяна, николаевич, испанский, п...\n",
       "Name: comment, Length: 17410, dtype: object"
      ]
     },
     "execution_count": 62,
     "metadata": {},
     "output_type": "execute_result"
    }
   ],
   "source": [
    "data = comments.iloc[:,0].apply(preprocessing)\n",
    "comments['comm_tokens'] = data\n",
    "comments"
   ]
  },
  {
   "cell_type": "code",
   "execution_count": 66,
   "id": "c5943eb2",
   "metadata": {},
   "outputs": [
    {
     "data": {
      "text/plain": [
       "16449"
      ]
     },
     "execution_count": 66,
     "metadata": {},
     "output_type": "execute_result"
    }
   ],
   "source": [
    "comments = comments.dropna()\n",
    "len(comments)"
   ]
  },
  {
   "cell_type": "code",
   "execution_count": 68,
   "id": "4ed942a7",
   "metadata": {},
   "outputs": [
    {
     "data": {
      "text/plain": [
       "['не',\n",
       " 'очень',\n",
       " 'занятие',\n",
       " 'репетитор',\n",
       " 'заниматься',\n",
       " 'ребёнок',\n",
       " 'преподаватель',\n",
       " 'всё',\n",
       " 'педагог',\n",
       " 'язык']"
      ]
     },
     "execution_count": 68,
     "metadata": {},
     "output_type": "execute_result"
    }
   ],
   "source": [
    "from collections import defaultdict\n",
    "\n",
    "word_freq = defaultdict(int)\n",
    "for tokens in comments['comm_tokens'].iloc[:]:\n",
    "    for token in tokens:\n",
    "        word_freq[token] += 1\n",
    "\n",
    "sorted(word_freq, key=word_freq.get, reverse=True)[:10]"
   ]
  },
  {
   "cell_type": "code",
   "execution_count": 69,
   "id": "1c5f1b1d",
   "metadata": {},
   "outputs": [
    {
     "data": {
      "text/html": [
       "<div>\n",
       "<style scoped>\n",
       "    .dataframe tbody tr th:only-of-type {\n",
       "        vertical-align: middle;\n",
       "    }\n",
       "\n",
       "    .dataframe tbody tr th {\n",
       "        vertical-align: top;\n",
       "    }\n",
       "\n",
       "    .dataframe thead th {\n",
       "        text-align: right;\n",
       "    }\n",
       "</style>\n",
       "<table border=\"1\" class=\"dataframe\">\n",
       "  <thead>\n",
       "    <tr style=\"text-align: right;\">\n",
       "      <th></th>\n",
       "      <th>comment</th>\n",
       "      <th>mark</th>\n",
       "      <th>comm_tokens</th>\n",
       "    </tr>\n",
       "  </thead>\n",
       "  <tbody>\n",
       "    <tr>\n",
       "      <th>3849</th>\n",
       "      <td>Было проведено три занятия. Преподаватель обр...</td>\n",
       "      <td>3</td>\n",
       "      <td>[провести, занятие, преподаватель, обращаться,...</td>\n",
       "    </tr>\n",
       "    <tr>\n",
       "      <th>45301</th>\n",
       "      <td>Марина Александровна понравилась моему ребёнк...</td>\n",
       "      <td>5</td>\n",
       "      <td>[марина, александрович, понравиться, ребёнок, ...</td>\n",
       "    </tr>\n",
       "    <tr>\n",
       "      <th>61537</th>\n",
       "      <td>Виктор Борисович - просто умница и как челове...</td>\n",
       "      <td>5</td>\n",
       "      <td>[виктор, борисович, просто, умница, человек, п...</td>\n",
       "    </tr>\n",
       "    <tr>\n",
       "      <th>45206</th>\n",
       "      <td>У меня положительный отзыв о Екатерине Сергее...</td>\n",
       "      <td>5</td>\n",
       "      <td>[положительный, отзыв, екатерина, сергеевич, ч...</td>\n",
       "    </tr>\n",
       "    <tr>\n",
       "      <th>60560</th>\n",
       "      <td>Отличный репетитор! Благодаря Сергею Валерьев...</td>\n",
       "      <td>5</td>\n",
       "      <td>[отличный, репетитор, благодаря, сергей, валер...</td>\n",
       "    </tr>\n",
       "    <tr>\n",
       "      <th>...</th>\n",
       "      <td>...</td>\n",
       "      <td>...</td>\n",
       "      <td>...</td>\n",
       "    </tr>\n",
       "    <tr>\n",
       "      <th>74077</th>\n",
       "      <td>Очень нравится репетитор.Всегда доброжелатель...</td>\n",
       "      <td>4</td>\n",
       "      <td>[очень, нравиться, репетитор, доброжелательнав...</td>\n",
       "    </tr>\n",
       "    <tr>\n",
       "      <th>72702</th>\n",
       "      <td>Лилия Ансафовна – умная внимательна ответстве...</td>\n",
       "      <td>4</td>\n",
       "      <td>[лилия, ансафович, –, умный, внимательный, отв...</td>\n",
       "    </tr>\n",
       "    <tr>\n",
       "      <th>49007</th>\n",
       "      <td>Мы остались очень довольны сотрудничеством с ...</td>\n",
       "      <td>5</td>\n",
       "      <td>[остаться, очень, довольный, сотрудничество, о...</td>\n",
       "    </tr>\n",
       "    <tr>\n",
       "      <th>59018</th>\n",
       "      <td>Меня полностью устроили занятия с преподавате...</td>\n",
       "      <td>5</td>\n",
       "      <td>[полностью, устроить, занятие, преподаватель, ...</td>\n",
       "    </tr>\n",
       "    <tr>\n",
       "      <th>63387</th>\n",
       "      <td>Занимаюсь с Татьяной Николаевной испанским бо...</td>\n",
       "      <td>5</td>\n",
       "      <td>[заниматься, татьяна, николаевич, испанский, п...</td>\n",
       "    </tr>\n",
       "  </tbody>\n",
       "</table>\n",
       "<p>16449 rows × 3 columns</p>\n",
       "</div>"
      ],
      "text/plain": [
       "                                                 comment mark  \\\n",
       "3849    Было проведено три занятия. Преподаватель обр...    3   \n",
       "45301   Марина Александровна понравилась моему ребёнк...    5   \n",
       "61537   Виктор Борисович - просто умница и как челове...    5   \n",
       "45206   У меня положительный отзыв о Екатерине Сергее...    5   \n",
       "60560   Отличный репетитор! Благодаря Сергею Валерьев...    5   \n",
       "...                                                  ...  ...   \n",
       "74077   Очень нравится репетитор.Всегда доброжелатель...    4   \n",
       "72702   Лилия Ансафовна – умная внимательна ответстве...    4   \n",
       "49007   Мы остались очень довольны сотрудничеством с ...    5   \n",
       "59018   Меня полностью устроили занятия с преподавате...    5   \n",
       "63387   Занимаюсь с Татьяной Николаевной испанским бо...    5   \n",
       "\n",
       "                                             comm_tokens  \n",
       "3849   [провести, занятие, преподаватель, обращаться,...  \n",
       "45301  [марина, александрович, понравиться, ребёнок, ...  \n",
       "61537  [виктор, борисович, просто, умница, человек, п...  \n",
       "45206  [положительный, отзыв, екатерина, сергеевич, ч...  \n",
       "60560  [отличный, репетитор, благодаря, сергей, валер...  \n",
       "...                                                  ...  \n",
       "74077  [очень, нравиться, репетитор, доброжелательнав...  \n",
       "72702  [лилия, ансафович, –, умный, внимательный, отв...  \n",
       "49007  [остаться, очень, довольный, сотрудничество, о...  \n",
       "59018  [полностью, устроить, занятие, преподаватель, ...  \n",
       "63387  [заниматься, татьяна, николаевич, испанский, п...  \n",
       "\n",
       "[16449 rows x 3 columns]"
      ]
     },
     "execution_count": 69,
     "metadata": {},
     "output_type": "execute_result"
    }
   ],
   "source": [
    "comments"
   ]
  },
  {
   "cell_type": "code",
   "execution_count": null,
   "id": "aacb7d54",
   "metadata": {},
   "outputs": [],
   "source": [
    "comments.groupby('mark').nunique()"
   ]
  },
  {
   "cell_type": "code",
   "execution_count": 82,
   "id": "ea35d260",
   "metadata": {},
   "outputs": [],
   "source": [
    "comments['mark'] = comments['mark'].astype(str).astype(int)\n",
    "comments['comment'] = comments['comment'].astype(str)"
   ]
  },
  {
   "cell_type": "code",
   "execution_count": 85,
   "id": "f287c8c0",
   "metadata": {},
   "outputs": [],
   "source": [
    "X = comments['comment']\n",
    "y = comments['mark']"
   ]
  },
  {
   "cell_type": "code",
   "execution_count": 86,
   "id": "93128042",
   "metadata": {},
   "outputs": [],
   "source": [
    "from sklearn.model_selection import train_test_split  \n",
    "X_train, X_test, y_train, y_test = train_test_split(X, y, test_size=0.33, random_state = 1234)  "
   ]
  },
  {
   "cell_type": "code",
   "execution_count": 87,
   "id": "7fe57a05",
   "metadata": {},
   "outputs": [],
   "source": [
    "from sklearn.feature_extraction.text import TfidfVectorizer\n",
    "from sklearn.linear_model import LogisticRegression\n",
    "from sklearn.metrics import classification_report, confusion_matrix, accuracy_score\n",
    "\n",
    "%matplotlib inline\n",
    "import matplotlib.pyplot as plt\n",
    "\n",
    "v = TfidfVectorizer(norm=None, max_df=0.8, max_features=500, decode_error='replace') # Взвешиваем вектора\n",
    "X_train_vector = v.fit_transform(X_train)\n",
    "X_test_vector = v.transform(X_test)\n",
    "\n",
    "clf = LogisticRegression( random_state=64, solver='lbfgs', max_iter=10000, n_jobs=-1) # Обучаем классификатор\n",
    "clf.fit(X_train_vector, y_train)\n",
    "y_pred = clf.predict(X_test_vector)"
   ]
  },
  {
   "cell_type": "code",
   "execution_count": 88,
   "id": "f223d6c8",
   "metadata": {},
   "outputs": [
    {
     "data": {
      "text/plain": [
       "0.7546509486093204"
      ]
     },
     "execution_count": 88,
     "metadata": {},
     "output_type": "execute_result"
    }
   ],
   "source": [
    "accuracy_score(y_test, y_pred)"
   ]
  },
  {
   "cell_type": "code",
   "execution_count": 93,
   "id": "55fd3699",
   "metadata": {},
   "outputs": [
    {
     "data": {
      "image/png": "[encoded data removed]",
      "text/plain": [
       "<Figure size 640x480 with 2 Axes>"
      ]
     },
     "metadata": {},
     "output_type": "display_data"
    }
   ],
   "source": [
    "ax= plt.subplot()\n",
    "\n",
    "cmm = confusion_matrix(y_test,y_pred)\n",
    "sns.heatmap(cmm, annot=True, fmt='g', ax=ax);\n",
    "\n",
    "ax.set_xlabel('Predicted labels');ax.set_ylabel('True labels'); \n",
    "ax.set_title('Confusion Matrix'); \n",
    "ax.xaxis.set_ticklabels(['5','4','3','2']); ax.yaxis.set_ticklabels(['5','4','3','2']);"
   ]
  },
  {
   "cell_type": "code",
   "execution_count": null,
   "id": "8509f43b",
   "metadata": {},
   "outputs": [],
   "source": [
    "print(u'Таблица сопряженности для обучающей выборки')\n",
    "conf_mat = confusion_matrix(y_train, y_pred_train)\n",
    "\n",
    "conf_mat_train = pd.DataFrame(conf_mat, index=classifier.classes_, columns=classifier.classes_)\n",
    "conf_mat_train"
   ]
  }
 ],
 "metadata": {
  "kernelspec": {
   "display_name": "Python 3 (ipykernel)",
   "language": "python",
   "name": "python3"
  },
  "language_info": {
   "codemirror_mode": {
    "name": "ipython",
    "version": 3
   },
   "file_extension": ".py",
   "mimetype": "text/x-python",
   "name": "python",
   "nbconvert_exporter": "python",
   "pygments_lexer": "ipython3",
   "version": "3.10.8"
  }
 },
 "nbformat": 4,
 "nbformat_minor": 5
}
