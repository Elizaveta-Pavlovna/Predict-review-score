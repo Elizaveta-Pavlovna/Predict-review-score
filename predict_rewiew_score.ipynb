{
 "cells": [
  {
   "cell_type": "code",
   "execution_count": 1,
   "id": "6ca25a65",
   "metadata": {},
   "outputs": [],
   "source": [
    "import numpy as np\n",
    "import pandas as pd"
   ]
  },
  {
   "cell_type": "code",
   "execution_count": 2,
   "id": "cc07972b",
   "metadata": {},
   "outputs": [],
   "source": [
    "comments_msk = pd.read_csv('data_msk.csv', sep=',', decimal=\",\")\n",
    "comments_msk = comments_msk.drop(columns = ['commentsLink', ' index'], axis=1)\n",
    "\n",
    "comments_spb = pd.read_csv('data_spb.csv', sep=',', decimal=\",\")\n",
    "comments_spb = comments_spb.drop(columns = ['commentsLink', ' index'], axis=1)"
   ]
  },
  {
   "cell_type": "code",
   "execution_count": 3,
   "id": "cfed7349",
   "metadata": {},
   "outputs": [
    {
     "data": {
      "text/html": [
       "<div>\n",
       "<style scoped>\n",
       "    .dataframe tbody tr th:only-of-type {\n",
       "        vertical-align: middle;\n",
       "    }\n",
       "\n",
       "    .dataframe tbody tr th {\n",
       "        vertical-align: top;\n",
       "    }\n",
       "\n",
       "    .dataframe thead th {\n",
       "        text-align: right;\n",
       "    }\n",
       "</style>\n",
       "<table border=\"1\" class=\"dataframe\">\n",
       "  <thead>\n",
       "    <tr style=\"text-align: right;\">\n",
       "      <th></th>\n",
       "      <th>comment</th>\n",
       "      <th>mark</th>\n",
       "    </tr>\n",
       "  </thead>\n",
       "  <tbody>\n",
       "    <tr>\n",
       "      <th>0</th>\n",
       "      <td>Преподаватель находит индивидуальный подход п...</td>\n",
       "      <td>Оценка: 5+.</td>\n",
       "    </tr>\n",
       "    <tr>\n",
       "      <th>1</th>\n",
       "      <td>Плюсы: Анна Валерьевна обязательна компетентн...</td>\n",
       "      <td>Оценка: 5.</td>\n",
       "    </tr>\n",
       "    <tr>\n",
       "      <th>2</th>\n",
       "      <td>СПАСИБО Анна Валерьевна! Сдали хорошо ЕГЭ. С ...</td>\n",
       "      <td>Оценка: 5.</td>\n",
       "    </tr>\n",
       "    <tr>\n",
       "      <th>3</th>\n",
       "      <td>50 % успеха - наличие контакта с преподавател...</td>\n",
       "      <td>Оценка: 5+.</td>\n",
       "    </tr>\n",
       "    <tr>\n",
       "      <th>4</th>\n",
       "      <td>Анна Валерьевна является не только уникальным...</td>\n",
       "      <td>Оценка: 5+.</td>\n",
       "    </tr>\n",
       "    <tr>\n",
       "      <th>...</th>\n",
       "      <td>...</td>\n",
       "      <td>...</td>\n",
       "    </tr>\n",
       "    <tr>\n",
       "      <th>27652</th>\n",
       "      <td>Дочь учится в 10 классе ей очень нравится зан...</td>\n",
       "      <td>Оценка: 5.</td>\n",
       "    </tr>\n",
       "    <tr>\n",
       "      <th>27653</th>\n",
       "      <td>Анна Геннадиевна нам полностью подошла как по...</td>\n",
       "      <td>Оценка: 5.</td>\n",
       "    </tr>\n",
       "    <tr>\n",
       "      <th>27654</th>\n",
       "      <td>Преподаватель Анна Геннадиевна продолжает зан...</td>\n",
       "      <td>Оценка: 5+.</td>\n",
       "    </tr>\n",
       "    <tr>\n",
       "      <th>27655</th>\n",
       "      <td>Я продолжаю заниматься с преподавателем англи...</td>\n",
       "      <td>Оценка: 5.</td>\n",
       "    </tr>\n",
       "    <tr>\n",
       "      <th>27656</th>\n",
       "      <td>\"Нам очень нравится наш репетитор по английск...</td>\n",
       "      <td>Оценка: 5.</td>\n",
       "    </tr>\n",
       "  </tbody>\n",
       "</table>\n",
       "<p>87410 rows × 2 columns</p>\n",
       "</div>"
      ],
      "text/plain": [
       "                                                 comment          mark\n",
       "0       Преподаватель находит индивидуальный подход п...   Оценка: 5+.\n",
       "1       Плюсы: Анна Валерьевна обязательна компетентн...    Оценка: 5.\n",
       "2       СПАСИБО Анна Валерьевна! Сдали хорошо ЕГЭ. С ...    Оценка: 5.\n",
       "3       50 % успеха - наличие контакта с преподавател...   Оценка: 5+.\n",
       "4       Анна Валерьевна является не только уникальным...   Оценка: 5+.\n",
       "...                                                  ...           ...\n",
       "27652   Дочь учится в 10 классе ей очень нравится зан...    Оценка: 5.\n",
       "27653   Анна Геннадиевна нам полностью подошла как по...    Оценка: 5.\n",
       "27654   Преподаватель Анна Геннадиевна продолжает зан...   Оценка: 5+.\n",
       "27655   Я продолжаю заниматься с преподавателем англи...    Оценка: 5.\n",
       "27656   \"Нам очень нравится наш репетитор по английск...    Оценка: 5.\n",
       "\n",
       "[87410 rows x 2 columns]"
      ]
     },
     "execution_count": 3,
     "metadata": {},
     "output_type": "execute_result"
    }
   ],
   "source": [
    "comments = pd.concat([comments_msk, comments_spb], axis=0)\n",
    "comments"
   ]
  },
  {
   "cell_type": "code",
   "execution_count": 4,
   "id": "cdd2f404",
   "metadata": {},
   "outputs": [
    {
     "data": {
      "text/plain": [
       "array([' Оценка: 1.', ' Оценка: 2.', ' Оценка: 3+.', ' Оценка: 3.',\n",
       "       ' Оценка: 3−.', ' Оценка: 4+.', ' Оценка: 4.', ' Оценка: 4−.',\n",
       "       ' Оценка: 5+.', ' Оценка: 5.', ' Оценка: 5−.'], dtype=object)"
      ]
     },
     "execution_count": 4,
     "metadata": {},
     "output_type": "execute_result"
    }
   ],
   "source": [
    "np.unique(comments[' mark'])"
   ]
  },
  {
   "cell_type": "code",
   "execution_count": 5,
   "id": "78f91ebe",
   "metadata": {},
   "outputs": [
    {
     "data": {
      "text/html": [
       "<div>\n",
       "<style scoped>\n",
       "    .dataframe tbody tr th:only-of-type {\n",
       "        vertical-align: middle;\n",
       "    }\n",
       "\n",
       "    .dataframe tbody tr th {\n",
       "        vertical-align: top;\n",
       "    }\n",
       "\n",
       "    .dataframe thead th {\n",
       "        text-align: right;\n",
       "    }\n",
       "</style>\n",
       "<table border=\"1\" class=\"dataframe\">\n",
       "  <thead>\n",
       "    <tr style=\"text-align: right;\">\n",
       "      <th></th>\n",
       "      <th>comment</th>\n",
       "    </tr>\n",
       "    <tr>\n",
       "      <th>mark</th>\n",
       "      <th></th>\n",
       "    </tr>\n",
       "  </thead>\n",
       "  <tbody>\n",
       "    <tr>\n",
       "      <th>Оценка: 1.</th>\n",
       "      <td>102</td>\n",
       "    </tr>\n",
       "    <tr>\n",
       "      <th>Оценка: 2.</th>\n",
       "      <td>378</td>\n",
       "    </tr>\n",
       "    <tr>\n",
       "      <th>Оценка: 3+.</th>\n",
       "      <td>109</td>\n",
       "    </tr>\n",
       "    <tr>\n",
       "      <th>Оценка: 3.</th>\n",
       "      <td>667</td>\n",
       "    </tr>\n",
       "    <tr>\n",
       "      <th>Оценка: 3−.</th>\n",
       "      <td>128</td>\n",
       "    </tr>\n",
       "    <tr>\n",
       "      <th>Оценка: 4+.</th>\n",
       "      <td>1017</td>\n",
       "    </tr>\n",
       "    <tr>\n",
       "      <th>Оценка: 4.</th>\n",
       "      <td>2134</td>\n",
       "    </tr>\n",
       "    <tr>\n",
       "      <th>Оценка: 4−.</th>\n",
       "      <td>292</td>\n",
       "    </tr>\n",
       "    <tr>\n",
       "      <th>Оценка: 5+.</th>\n",
       "      <td>38064</td>\n",
       "    </tr>\n",
       "    <tr>\n",
       "      <th>Оценка: 5.</th>\n",
       "      <td>43120</td>\n",
       "    </tr>\n",
       "    <tr>\n",
       "      <th>Оценка: 5−.</th>\n",
       "      <td>967</td>\n",
       "    </tr>\n",
       "  </tbody>\n",
       "</table>\n",
       "</div>"
      ],
      "text/plain": [
       "               comment\n",
       " mark                 \n",
       " Оценка: 1.        102\n",
       " Оценка: 2.        378\n",
       " Оценка: 3+.       109\n",
       " Оценка: 3.        667\n",
       " Оценка: 3−.       128\n",
       " Оценка: 4+.      1017\n",
       " Оценка: 4.       2134\n",
       " Оценка: 4−.       292\n",
       " Оценка: 5+.     38064\n",
       " Оценка: 5.      43120\n",
       " Оценка: 5−.       967"
      ]
     },
     "execution_count": 5,
     "metadata": {},
     "output_type": "execute_result"
    }
   ],
   "source": [
    "comments.groupby(' mark').nunique()"
   ]
  },
  {
   "cell_type": "code",
   "execution_count": null,
   "id": "eac2a5b6",
   "metadata": {},
   "outputs": [],
   "source": []
  },
  {
   "cell_type": "code",
   "execution_count": null,
   "id": "30af1342",
   "metadata": {},
   "outputs": [],
   "source": []
  }
 ],
 "metadata": {
  "kernelspec": {
   "display_name": "Python 3 (ipykernel)",
   "language": "python",
   "name": "python3"
  },
  "language_info": {
   "codemirror_mode": {
    "name": "ipython",
    "version": 3
   },
   "file_extension": ".py",
   "mimetype": "text/x-python",
   "name": "python",
   "nbconvert_exporter": "python",
   "pygments_lexer": "ipython3",
   "version": "3.10.8"
  }
 },
 "nbformat": 4,
 "nbformat_minor": 5
}
